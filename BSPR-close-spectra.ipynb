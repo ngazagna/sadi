{
 "cells": [
  {
   "cell_type": "markdown",
   "metadata": {},
   "source": [
    "# 0) Imports"
   ]
  },
  {
   "cell_type": "code",
   "execution_count": 71,
   "metadata": {},
   "outputs": [
    {
     "name": "stdout",
     "output_type": "stream",
     "text": [
      "The autoreload extension is already loaded. To reload it, use:\n",
      "  %reload_ext autoreload\n"
     ]
    }
   ],
   "source": [
    "%load_ext autoreload\n",
    "%autoreload 2"
   ]
  },
  {
   "cell_type": "code",
   "execution_count": 72,
   "metadata": {},
   "outputs": [],
   "source": [
    "# %matplotlib inline"
   ]
  },
  {
   "cell_type": "code",
   "execution_count": 94,
   "metadata": {},
   "outputs": [],
   "source": [
    "import os\n",
    "import numpy as np\n",
    "import pandas as pd\n",
    "from time import time\n",
    "\n",
    "import matplotlib.pyplot as plt\n",
    "import plotly.graph_objects as go"
   ]
  },
  {
   "cell_type": "markdown",
   "metadata": {},
   "source": [
    "# 1) Personal tools and solvers"
   ]
  },
  {
   "cell_type": "code",
   "execution_count": 95,
   "metadata": {
    "scrolled": true
   },
   "outputs": [],
   "source": [
    "from utils import is_symmetric, is_pos_def, is_commutative, res_norm_pr, rel_err_pr\n",
    "from plots import plot_conv, plot_eigenvals, plot_conv_plotly\n",
    "from results import ResultPR\n",
    "\n",
    "from gen_data import gen_artifical_pr\n",
    "from adi_peaceman_rachford import adi_pr, sap_adi_pr\n",
    "from shift_parameters import shifts_pr, shifts_w\n",
    "\n",
    "from save_load import save, save_artificial_pr, load_artificial_pr"
   ]
  },
  {
   "cell_type": "markdown",
   "metadata": {},
   "source": [
    "### Parameters to select"
   ]
  },
  {
   "cell_type": "code",
   "execution_count": 96,
   "metadata": {},
   "outputs": [],
   "source": [
    "N = 8000  # dimension\n",
    "spectra = \"close\"\n",
    "\n",
    "overwrite = True  # overwrite matrices\n",
    "n_iter_moving_shifts = 15  # number iterations PR and W shifts\n",
    "n_iter_cst_shifts = 40  # number iterations cst shifts\n",
    "n_iter = 50  # number iterations BSPR\n",
    "\n",
    "is_plot_spectrum = False  # plot spectrum of matrices A and B\n",
    "\n",
    "\n",
    "# Plots title\n",
    "title = f\"Peaceman-Rachford problem N={N}\""
   ]
  },
  {
   "cell_type": "markdown",
   "metadata": {},
   "source": [
    "# 2) Generate input matrices and vector"
   ]
  },
  {
   "cell_type": "markdown",
   "metadata": {},
   "source": [
    "## Check that generated matrices are symmetric, positive-definite and commute"
   ]
  },
  {
   "cell_type": "code",
   "execution_count": 97,
   "metadata": {},
   "outputs": [],
   "source": [
    "# np.random.seed(0)\n",
    "\n",
    "# N_small = 10\n",
    "# H_small, V_small, _, _ = gen_artifical_pr(N_small)"
   ]
  },
  {
   "cell_type": "code",
   "execution_count": 98,
   "metadata": {
    "scrolled": true
   },
   "outputs": [],
   "source": [
    "# print(\"H and V are symmetric:\", is_symmetric(H_small) and is_symmetric(V_small))\n",
    "# print(\"H and V are positive-definite:\", is_pos_def(H_small) and is_pos_def(V_small))\n",
    "# print(\"H and V commute:\", is_commutative(H_small, V_small))"
   ]
  },
  {
   "cell_type": "code",
   "execution_count": 99,
   "metadata": {},
   "outputs": [],
   "source": [
    "# print(np.linalg.eigvalsh(H_small))\n",
    "# print(np.linalg.eigvalsh(V_small))"
   ]
  },
  {
   "cell_type": "markdown",
   "metadata": {},
   "source": [
    "## Load or generate data"
   ]
  },
  {
   "cell_type": "code",
   "execution_count": 100,
   "metadata": {},
   "outputs": [
    {
     "name": "stdout",
     "output_type": "stream",
     "text": [
      "Matrices saved in\n",
      " /home/claire/nidham/thomas_jefferson_fund/sketch_proj_ADI/code/sketched_adi/datasets/pr/artificial_pr_8000_close.npz\n",
      "Shape of H : 8000\n"
     ]
    }
   ],
   "source": [
    "filename = f\"artificial_pr_{N}_{spectra}.npz\"\n",
    "folder = os.path.join(os.getcwd(), \"datasets/pr/\")\n",
    "path = os.path.join(folder, filename)\n",
    "\n",
    "if os.path.exists(path) and not overwrite:\n",
    "    H, V, b, u_true = load_artificial_pr(N, spectra)\n",
    "    print(\"Matrices loaded from\\n\", path)\n",
    "else:\n",
    "    np.random.seed(0)\n",
    "    H, V, b, u_true = gen_artifical_pr(N, spectra)\n",
    "    save_artificial_pr(H, V, b, u_true, spectra)\n",
    "    print(\"Matrices saved in\\n\", path)\n",
    "    \n",
    "m = H.shape[0]\n",
    "print(\"Shape of H :\", m)"
   ]
  },
  {
   "cell_type": "code",
   "execution_count": 101,
   "metadata": {},
   "outputs": [
    {
     "name": "stdout",
     "output_type": "stream",
     "text": [
      "The problem is well posed\n"
     ]
    }
   ],
   "source": [
    "# Check that u_true is a solution\n",
    "if u_true.size == 0:\n",
    "    print(\"Solution not provided\")\n",
    "else:\n",
    "    if res_norm_pr(u_true, H, V, b) < 1e-3:\n",
    "        print(\"The problem is well posed\")\n",
    "#         u_direct = np.linalg.solve(H + V, b) # computed solution\n",
    "#         print(res_norm_pr(u_direct, H, V, b))\n",
    "#         print(np.linalg.norm(u_direct - u_true)) # u_true: ground truth solution\n",
    "    else:\n",
    "        print(\"The problem does not have a solution\")\n",
    "        u_true = np.array([])"
   ]
  },
  {
   "cell_type": "code",
   "execution_count": 102,
   "metadata": {
    "scrolled": true
   },
   "outputs": [
    {
     "name": "stdout",
     "output_type": "stream",
     "text": [
      "Spectrum of H: [0.00010, 1.00010] => condition number (H) = 10001\n",
      "Spectrum of V: [0.00015, 1.00015] => condition number (V) = 6668\n",
      "Eigenvalue interval [alpha, beta] = [9.999999999963536e-05, 1.0001499999999885]\n",
      "\n",
      "Time numpy eigvalsh: 1.1e+02 s\n",
      "\n",
      "Condition number (H + V) = 8001\n"
     ]
    }
   ],
   "source": [
    "# Estimate eigenvalue interval\n",
    "t0 = time()\n",
    "eig_val_H = np.linalg.eigvalsh(H)\n",
    "eig_val_V = np.linalg.eigvalsh(V)\n",
    "\n",
    "all_eig_val = np.concatenate((eig_val_H, eig_val_V))\n",
    "alpha = np.min(all_eig_val)\n",
    "beta = np.max(all_eig_val)\n",
    "t_eigvalsh = time() - t0\n",
    "\n",
    "print(\n",
    "    f\"Spectrum of H: [{np.min(eig_val_H):.5f}, {np.max(eig_val_H):.5f}]\"\n",
    "    f\" => condition number (H) = {np.linalg.cond(H):.0f}\"\n",
    ")\n",
    "print(\n",
    "    f\"Spectrum of V: [{np.min(eig_val_V):.5f}, {np.max(eig_val_V):.5f}]\"\n",
    "    f\" => condition number (V) = {np.linalg.cond(V):.0f}\"\n",
    ")\n",
    "\n",
    "print(f\"Eigenvalue interval [alpha, beta] = [{alpha}, {beta}]\\n\")\n",
    "print(f\"Time numpy eigvalsh: {t_eigvalsh:.2} s\\n\")\n",
    "\n",
    "print(f\"Condition number (H + V) = {np.linalg.cond(H + V):.0f}\")"
   ]
  },
  {
   "cell_type": "code",
   "execution_count": 103,
   "metadata": {},
   "outputs": [
    {
     "name": "stdout",
     "output_type": "stream",
     "text": [
      "0.00014539992976248485 1.0001\n",
      "0.00010000001388794387 1.0001\n",
      "0.0001 1.0001 \n",
      "\n",
      "0.00019539992976248485 1.00015\n",
      "0.00015000001388794384 1.00015\n",
      "0.00015 1.00015\n"
     ]
    }
   ],
   "source": [
    "# close\n",
    "init = 1e-4\n",
    "mu = .01\n",
    "power = 1e0\n",
    "print(init + np.exp(-mu*1000) / power, init + np.exp(-mu*0) / power)\n",
    "print(init + np.exp(-mu*2500) / power, init + np.exp(-mu*0) / power)\n",
    "print(init + np.exp(-mu*5000) / power, init + np.exp(-mu*0) / power, \"\\n\")\n",
    "\n",
    "init = 1.5e-4\n",
    "print(init + np.exp(-mu*1000) / power, init + np.exp(-mu*0) / power)\n",
    "print(init + np.exp(-mu*2500) / power, init + np.exp(-mu*0) / power)\n",
    "print(init + np.exp(-mu*5000) / power, init + np.exp(-mu*0) / power)"
   ]
  },
  {
   "cell_type": "markdown",
   "metadata": {},
   "source": [
    "## Remark\n",
    "H + V = H - (- V), sp(H) and sp(-V) must be separated enough\n",
    "a = min eig (H), b = max eig (H)\n",
    "c = min eig (-V), d = max eig (-V)\n",
    "\n",
    "gam = (c - a )*( d - b )/( c - b )/( d - a ); % Cross - ratio of a ,b ,c , d\n",
    "=> Measures the \"difficulty\" of the problem \n",
    "\n",
    "AX - XB = F when the eigenvalues of A ( B ) are in [a , b ] and\n",
    "% the eigenvalues of B ( A ) are in [c , d ]"
   ]
  },
  {
   "cell_type": "code",
   "execution_count": 104,
   "metadata": {
    "scrolled": true
   },
   "outputs": [],
   "source": [
    "if is_plot_spectrum:\n",
    "    # Plot eigenvalues decrease\n",
    "    plot_eigenvals(eig_val_H, eig_val_V, \"pr\")"
   ]
  },
  {
   "cell_type": "markdown",
   "metadata": {},
   "source": [
    "# 3) ADI to solve Peaceman-Rachford problem"
   ]
  },
  {
   "cell_type": "markdown",
   "metadata": {},
   "source": [
    "## Solvers parameters"
   ]
  },
  {
   "cell_type": "code",
   "execution_count": 105,
   "metadata": {},
   "outputs": [],
   "source": [
    "results = []"
   ]
  },
  {
   "cell_type": "markdown",
   "metadata": {},
   "source": [
    "# a) Test ADI with Peaceman-Rachford shifts"
   ]
  },
  {
   "cell_type": "code",
   "execution_count": 106,
   "metadata": {},
   "outputs": [
    {
     "name": "stdout",
     "output_type": "stream",
     "text": [
      "--------------------------------------------\n",
      "  Iteration   |    Epoch     |   Time (s)   \n",
      "--------------------------------------------\n",
      "      1       |      1       |   1.06e+01   \n",
      "      2       |      2       |   2.16e+01   \n",
      "      3       |      3       |   3.29e+01   \n",
      "      4       |      4       |   4.42e+01   \n",
      "      5       |      5       |   5.57e+01   \n",
      "      6       |      6       |   6.96e+01   \n",
      "      7       |      7       |   8.34e+01   \n",
      "      8       |      8       |   9.71e+01   \n",
      "      9       |      9       |   1.18e+02   \n",
      "      10      |      10      |   1.35e+02   \n",
      "      11      |      11      |   1.46e+02   \n",
      "      12      |      12      |   1.57e+02   \n",
      "      13      |      13      |   1.70e+02   \n",
      "      14      |      14      |   1.84e+02   \n",
      "      15      |      15      |   1.98e+02   \n",
      "\n",
      "Relative residual of last iterate: 1.53e-04\n",
      "Relative error of last iterate: 7.09e-05\n"
     ]
    }
   ],
   "source": [
    "# Compute PR shifts\n",
    "t0 = time()\n",
    "p_pr, q_pr = shifts_pr(alpha, beta, n_iter_moving_shifts)\n",
    "t_init = time() - t0\n",
    "    \n",
    "u_adi_pr, t_adi_pr, iter_adi_pr, epoch_adi_pr = adi_pr(\n",
    "    H, V, b, \n",
    "    n_iter=n_iter_moving_shifts, \n",
    "    p=p_pr, q=q_pr,\n",
    "    store_every=int(n_iter_moving_shifts/10),\n",
    "    verbose=True,\n",
    ")\n",
    "\n",
    "# Taking initialization into account\n",
    "# t_eigvalsh : time to compute spectrum bounds\n",
    "t_adi_pr += t_eigvalsh + t_init\n",
    "\n",
    "result_adi_pr = ResultPR(\n",
    "    \"PR-pr_shifts\", \n",
    "    u_adi_pr, t_adi_pr, iter_adi_pr, epoch_adi_pr,\n",
    "    u_true,\n",
    ")\n",
    "result_adi_pr.compute_errors(H, V, b)\n",
    "\n",
    "results.append(result_adi_pr)\n",
    "\n",
    "print(f\"\\nRelative residual of last iterate: {result_adi_pr.rel_res[-1]:.2e}\")\n",
    "if not result_adi_pr.rel_err.size == 0:\n",
    "    print(f\"Relative error of last iterate: {result_adi_pr.rel_err[-1]:.2e}\")"
   ]
  },
  {
   "cell_type": "markdown",
   "metadata": {},
   "source": [
    "# b) Test ADI with Wachspress shifts"
   ]
  },
  {
   "cell_type": "code",
   "execution_count": 107,
   "metadata": {},
   "outputs": [
    {
     "name": "stdout",
     "output_type": "stream",
     "text": [
      "--------------------------------------------\n",
      "  Iteration   |    Epoch     |   Time (s)   \n",
      "--------------------------------------------\n",
      "      1       |      1       |   2.28e+01   \n",
      "      2       |      2       |   3.84e+01   \n",
      "      3       |      3       |   4.96e+01   \n",
      "      4       |      4       |   6.09e+01   \n",
      "      5       |      5       |   7.37e+01   \n",
      "      6       |      6       |   8.76e+01   \n",
      "      7       |      7       |   1.01e+02   \n",
      "      8       |      8       |   1.24e+02   \n",
      "      9       |      9       |   1.41e+02   \n",
      "      10      |      10      |   1.53e+02   \n",
      "      11      |      11      |   1.64e+02   \n",
      "      12      |      12      |   1.77e+02   \n",
      "      13      |      13      |   1.91e+02   \n",
      "      14      |      14      |   2.05e+02   \n",
      "      15      |      15      |   2.27e+02   \n",
      "\n",
      "Relative residual of last iterate: 1.89e-05\n",
      "Relative error of last iterate: 2.81e-06\n"
     ]
    }
   ],
   "source": [
    "# With Wachspress shifts\n",
    "t0 = time()\n",
    "p_w, q_w = shifts_w(alpha, beta, n_iter_moving_shifts)\n",
    "t_init = time() - t0\n",
    "\n",
    "u_adi_w, t_adi_w, iter_adi_w, epoch_adi_w = adi_pr(\n",
    "    H, V, b, \n",
    "    n_iter=n_iter_moving_shifts, \n",
    "    p=p_w, q=q_w,\n",
    "    store_every=int(n_iter_moving_shifts/10),\n",
    "    verbose=True,\n",
    ")\n",
    "\n",
    "# Taking initialization into account\n",
    "# t_eigvalsh : time to compute spectrum bounds\n",
    "t_adi_w += t_eigvalsh + t_init\n",
    "\n",
    "result_adi_w = ResultPR(\n",
    "    \"PR-w_shifts\", \n",
    "    u_adi_w, t_adi_w, iter_adi_w, epoch_adi_w,\n",
    "    u_true,\n",
    ")\n",
    "result_adi_w.compute_errors(H, V, b)\n",
    "\n",
    "results.append(result_adi_w)\n",
    "\n",
    "print(f\"\\nRelative residual of last iterate: {result_adi_w.rel_res[-1]:.2e}\")\n",
    "if not result_adi_w.rel_err.size == 0:\n",
    "    print(f\"Relative error of last iterate: {result_adi_w.rel_err[-1]:.2e}\")"
   ]
  },
  {
   "cell_type": "markdown",
   "metadata": {},
   "source": [
    "# c) Test ADI with constant shifts p = q = beta (upper bound of eigenvalues)"
   ]
  },
  {
   "cell_type": "code",
   "execution_count": 108,
   "metadata": {},
   "outputs": [],
   "source": [
    "def normalize(x):\n",
    "    fac = abs(x).max()\n",
    "    x_n = x / x.max()\n",
    "    return fac, x_n"
   ]
  },
  {
   "cell_type": "code",
   "execution_count": 109,
   "metadata": {},
   "outputs": [
    {
     "name": "stdout",
     "output_type": "stream",
     "text": [
      "Beta estimate: 0.9592586193680881\n",
      "Beta: 1.0001499999999885\n",
      "Time power method: 0.21 s\n"
     ]
    }
   ],
   "source": [
    "t0 = time()\n",
    "x = np.ones(m)\n",
    "for i in range(10):\n",
    "    x = np.dot(H, x)\n",
    "    lambda_max_H, x = normalize(x)\n",
    "\n",
    "x = np.ones(m)\n",
    "for i in range(10):\n",
    "    x = np.dot(V, x)\n",
    "    lambda_max_V, x = normalize(x)\n",
    "\n",
    "t_power_method = time() - t0\n",
    "\n",
    "\n",
    "beta_estimate = max(lambda_max_H, lambda_max_V)\n",
    "print(f\"Beta estimate: {beta_estimate}\")\n",
    "print(f\"Beta: {beta}\")\n",
    "\n",
    "print(f\"Time power method: {t_power_method:.2} s\")"
   ]
  },
  {
   "cell_type": "code",
   "execution_count": 110,
   "metadata": {
    "scrolled": false
   },
   "outputs": [
    {
     "name": "stdout",
     "output_type": "stream",
     "text": [
      "--------------------------------------------\n",
      "  Iteration   |    Epoch     |   Time (s)   \n",
      "--------------------------------------------\n",
      "      4       |      4       |   5.15e+01   \n",
      "      8       |      8       |   1.20e+02   \n",
      "      12      |      12      |   1.69e+02   \n",
      "      16      |      16      |   2.36e+02   \n",
      "      20      |      20      |   2.88e+02   \n",
      "      24      |      24      |   3.54e+02   \n",
      "      28      |      28      |   4.11e+02   \n",
      "      32      |      32      |   4.71e+02   \n",
      "      36      |      36      |   5.37e+02   \n",
      "      40      |      40      |   5.90e+02   \n",
      "\n",
      "Relative residual of last iterate: 4.26e-03\n",
      "Relative error of last iterate: 9.38e-01\n"
     ]
    }
   ],
   "source": [
    "# With constant shifts\n",
    "u_adi_cst, t_adi_cst, iter_adi_cst, epoch_adi_cst = adi_pr(\n",
    "    H, V, b, \n",
    "    n_iter=n_iter_cst_shifts, \n",
    "#     p=beta, q=beta,\n",
    "    p=beta_estimate, q=beta_estimate,\n",
    "    store_every=int(n_iter_cst_shifts/10),\n",
    "    verbose=True\n",
    ")\n",
    "\n",
    "# Taking initialization into account\n",
    "# t_power_method : time to compute spectrum upper bounds\n",
    "t_adi_cst += t_power_method\n",
    "\n",
    "result_adi_cst = ResultPR(\n",
    "    \"PR-cst\", \n",
    "    u_adi_cst, t_adi_cst, iter_adi_cst, epoch_adi_cst,\n",
    "    u_true,\n",
    ")\n",
    "result_adi_cst.compute_errors(H, V, b)\n",
    "\n",
    "results.append(result_adi_cst)\n",
    "\n",
    "print(f\"\\nRelative residual of last iterate: {result_adi_cst.rel_res[-1]:.2e}\")\n",
    "if not result_adi_cst.rel_err.size == 0:\n",
    "    print(f\"Relative error of last iterate: {result_adi_cst.rel_err[-1]:.2e}\")"
   ]
  },
  {
   "cell_type": "markdown",
   "metadata": {},
   "source": [
    "# d) Sketch and Project ADI with shift parameters"
   ]
  },
  {
   "cell_type": "raw",
   "metadata": {
    "scrolled": false
   },
   "source": [
    "fracs = [.75, .9]\n",
    "for size_frac in fracs:\n",
    "    sketch_size = int(size_frac*N) # run same number of epochs\n",
    "    n_iter_sto = int(n_iter/size_frac)\n",
    "    print(f\"Problem of size: {N} | sketch dimension: {sketch_size} ({int(100*size_frac)}% of rows)\")\n",
    "    print(f\"Number of iterations: {n_iter_sto}\")\n",
    "\n",
    "    beta_array = beta*np.ones(n_iter_sto)\n",
    "    np.random.seed(0)\n",
    "    u_sketch, t_sketch, iter_sketch, epoch_sketch = sap_adi_pr(\n",
    "        H, V, b, \n",
    "        n_iter=n_iter_sto, \n",
    "        p=beta_array, q=beta_array,\n",
    "        sketch_size=sketch_size, \n",
    "        store_every=int(n_iter_sto/10),\n",
    "        verbose=True,\n",
    "    )\n",
    "    \n",
    "    # Taking initialization into account\n",
    "    # t_power_method : time to compute spectrum upper bounds\n",
    "    t_sketch += t_power_method\n",
    "\n",
    "    result_sketched_adi_cst_shifts = ResultPR(\n",
    "        \"SAP-PR-\"+str(size_frac), \n",
    "        u_sketch, t_sketch, iter_sketch, epoch_sketch,\n",
    "        u_true\n",
    "    )\n",
    "    result_sketched_adi_cst_shifts.compute_errors(H, V, b)\n",
    "\n",
    "    results.append(result_sketched_adi_cst_shifts)\n",
    "\n",
    "    print(f\"\\nRelative residual of last iterate: {result_sketched_adi_cst_shifts.rel_res[-1]:.2e}\")\n",
    "    if not result_sketched_adi_cst_shifts.rel_err.size == 0:\n",
    "        print(f\"Relative error of last iterate: {result_sketched_adi_cst_shifts.rel_err[-1]:.2e}\")\n",
    "    print(\"\\n\")"
   ]
  },
  {
   "cell_type": "code",
   "execution_count": 111,
   "metadata": {
    "scrolled": false
   },
   "outputs": [
    {
     "name": "stdout",
     "output_type": "stream",
     "text": [
      "Problem of size: 8000 | sketch dimension: 800 (10% of rows)\n",
      "Number of iterations: 500\n",
      "--------------------------------------------\n",
      "  Iteration   |    Epoch     |   Time (s)   \n",
      "--------------------------------------------\n",
      "      50      |     5.0      |   2.80e+01   \n",
      "     100      |     10.0     |   6.74e+01   \n",
      "     150      |     15.0     |   9.18e+01   \n",
      "     200      |     20.0     |   1.20e+02   \n",
      "     250      |     25.0     |   1.59e+02   \n",
      "     300      |     30.0     |   1.87e+02   \n",
      "     350      |     35.0     |   2.12e+02   \n",
      "     400      |     40.0     |   2.45e+02   \n",
      "     450      |     45.0     |   2.85e+02   \n",
      "     500      |     50.0     |   3.09e+02   \n",
      "\n",
      "Relative residual of last iterate: 3.78e-03\n",
      "Relative error of last iterate: 9.39e-01\n",
      "\n",
      "\n",
      "Problem of size: 8000 | sketch dimension: 2000 (25% of rows)\n",
      "Number of iterations: 200\n",
      "--------------------------------------------\n",
      "  Iteration   |    Epoch     |   Time (s)   \n",
      "--------------------------------------------\n",
      "      20      |     5.0      |   6.91e+01   \n",
      "      40      |     10.0     |   1.16e+02   \n",
      "      60      |     15.0     |   1.80e+02   \n",
      "      80      |     20.0     |   2.29e+02   \n",
      "     100      |     25.0     |   2.91e+02   \n",
      "     120      |     30.0     |   3.53e+02   \n",
      "     140      |     35.0     |   4.05e+02   \n",
      "     160      |     40.0     |   4.74e+02   \n",
      "     180      |     45.0     |   5.20e+02   \n",
      "     200      |     50.0     |   5.87e+02   \n",
      "\n",
      "Relative residual of last iterate: 3.74e-03\n",
      "Relative error of last iterate: 9.38e-01\n",
      "\n",
      "\n"
     ]
    }
   ],
   "source": [
    "fracs = [.1, .25]\n",
    "for size_frac in fracs:\n",
    "    sketch_size = int(size_frac*N) # run same number of epochs\n",
    "    n_iter_sto = int(n_iter/size_frac)\n",
    "    print(f\"Problem of size: {N} | sketch dimension: {sketch_size} ({int(100*size_frac)}% of rows)\")\n",
    "    print(f\"Number of iterations: {n_iter_sto}\")\n",
    "\n",
    "    beta_array = beta*np.ones(n_iter_sto)\n",
    "    np.random.seed(0)\n",
    "    u_sketch, t_sketch, iter_sketch, epoch_sketch = sap_adi_pr(\n",
    "        H, V, b, \n",
    "        n_iter=n_iter_sto, \n",
    "        p=beta_array, q=beta_array,\n",
    "        sketch_size=sketch_size, \n",
    "        store_every=int(n_iter_sto/10),\n",
    "        verbose=True,\n",
    "    )\n",
    "    \n",
    "    # Taking initialization into account\n",
    "    # t_power_method : time to compute spectrum upper bounds\n",
    "    t_sketch += t_power_method\n",
    "\n",
    "    result_sketched_adi_cst_shifts = ResultPR(\n",
    "        \"BSPR-cst-\" + str(size_frac), \n",
    "        u_sketch, t_sketch, iter_sketch, epoch_sketch,\n",
    "        u_true\n",
    "    )\n",
    "    result_sketched_adi_cst_shifts.compute_errors(H, V, b)\n",
    "\n",
    "    results.append(result_sketched_adi_cst_shifts)\n",
    "\n",
    "    print(f\"\\nRelative residual of last iterate: {result_sketched_adi_cst_shifts.rel_res[-1]:.2e}\")\n",
    "    if not result_sketched_adi_cst_shifts.rel_err.size == 0:\n",
    "        print(f\"Relative error of last iterate: {result_sketched_adi_cst_shifts.rel_err[-1]:.2e}\")\n",
    "    print(\"\\n\")"
   ]
  },
  {
   "cell_type": "markdown",
   "metadata": {},
   "source": [
    "# 4) Compare convergence plots: iterations and time"
   ]
  },
  {
   "cell_type": "raw",
   "metadata": {
    "scrolled": true
   },
   "source": [
    "plot_conv(results, title, prob=\"pr\", x_axis=\"iter\")\n",
    "plot_conv(results, title, prob=\"pr\", x_axis=\"epoch\")\n",
    "plot_conv(results, title, prob=\"pr\", x_axis=\"time\")"
   ]
  },
  {
   "cell_type": "code",
   "execution_count": 112,
   "metadata": {
    "scrolled": false
   },
   "outputs": [
    {
     "data": {
      "application/vnd.plotly.v1+json": {
       "config": {
        "plotlyServerURL": "https://plot.ly"
       },
       "data": [
        {
         "line": {
          "color": "#636EFA",
          "dash": "solid"
         },
         "marker": {
          "size": 10,
          "symbol": "circle"
         },
         "mode": "lines+markers",
         "name": "PR-pr_shifts",
         "type": "scatter",
         "x": [
          0,
          1,
          2,
          3,
          4,
          5,
          6,
          7,
          8,
          9,
          10,
          11,
          12,
          13,
          14,
          15
         ],
         "y": [
          1,
          0.10801763868641259,
          0.04200998089008936,
          0.01929338264781965,
          0.009682622094779283,
          0.005208585821255697,
          0.0030542165889935902,
          0.001969392366665262,
          0.001463693656837957,
          0.0012004321350031683,
          0.0009731344022968592,
          0.0007039447630401572,
          0.00040785690379579857,
          0.00019720931045231105,
          0.00015388398281593148,
          0.0001532158775593936
         ]
        },
        {
         "line": {
          "color": "#EF553B",
          "dash": "dot"
         },
         "marker": {
          "size": 10,
          "symbol": "square"
         },
         "mode": "lines+markers",
         "name": "PR-w_shifts",
         "type": "scatter",
         "x": [
          0,
          1,
          2,
          3,
          4,
          5,
          6,
          7,
          8,
          9,
          10,
          11,
          12,
          13,
          14,
          15
         ],
         "y": [
          1,
          0.1455836775771908,
          0.05482149605092072,
          0.024637253853607783,
          0.011900010630986706,
          0.006080052944208312,
          0.0033835533497219936,
          0.002072912857424532,
          0.0014810534637732411,
          0.0011916410228991691,
          0.0009450288130905895,
          0.0006462559805050285,
          0.0003172705787480822,
          7.958567631685483e-05,
          1.9174814409192757e-05,
          1.8920159921121998e-05
         ]
        },
        {
         "line": {
          "color": "#00CC96",
          "dash": "dash"
         },
         "marker": {
          "size": 10,
          "symbol": "star"
         },
         "mode": "lines+markers",
         "name": "PR-cst",
         "type": "scatter",
         "x": [
          0,
          4,
          8,
          12,
          16,
          20,
          24,
          28,
          32,
          36,
          40
         ],
         "y": [
          1,
          0.03955878490305107,
          0.01989962451133436,
          0.013294997676005803,
          0.010001118365721874,
          0.0080429713298056,
          0.006756201043569107,
          0.005851843482030551,
          0.005183651408816224,
          0.004670108549516326,
          0.004262730247416638
         ]
        },
        {
         "line": {
          "color": "#AB63FA",
          "dash": "longdash"
         },
         "marker": {
          "size": 10,
          "symbol": "x"
         },
         "mode": "lines+markers",
         "name": "SPR-cst-0.1",
         "type": "scatter",
         "x": [
          0,
          5,
          10,
          15,
          20,
          25,
          30,
          35,
          40,
          45,
          50
         ],
         "y": [
          1,
          0.03237179010809018,
          0.016618672233250375,
          0.011336486868804115,
          0.008621627785075468,
          0.006985964040440419,
          0.005903040721975679,
          0.005137319868879363,
          0.004576478153779207,
          0.004133721616982379,
          0.003780991266724763
         ]
        },
        {
         "line": {
          "color": "#FFA15A",
          "dash": "dashdot"
         },
         "marker": {
          "size": 10,
          "symbol": "triangle-up"
         },
         "mode": "lines+markers",
         "name": "SPR-cst-0.25",
         "type": "scatter",
         "x": [
          0,
          5,
          10,
          15,
          20,
          25,
          30,
          35,
          40,
          45,
          50
         ],
         "y": [
          1,
          0.03263601354102078,
          0.016699398682071983,
          0.011240015994884807,
          0.008519188918295907,
          0.006899950098379764,
          0.005832304787031243,
          0.005085108137750812,
          0.004521969801803077,
          0.004091478932667119,
          0.0037382543657158156
         ]
        }
       ],
       "layout": {
        "font": {
         "size": 20
        },
        "legend": {
         "bgcolor": "rgba(255,255,255,0.8)",
         "title": {
          "text": "Methods"
         },
         "x": 0.99,
         "xanchor": "right",
         "y": 0.99,
         "yanchor": "top"
        },
        "margin": {
         "b": 20,
         "l": 20,
         "r": 20,
         "t": 20
        },
        "template": {
         "data": {
          "bar": [
           {
            "error_x": {
             "color": "#2a3f5f"
            },
            "error_y": {
             "color": "#2a3f5f"
            },
            "marker": {
             "line": {
              "color": "white",
              "width": 0.5
             },
             "pattern": {
              "fillmode": "overlay",
              "size": 10,
              "solidity": 0.2
             }
            },
            "type": "bar"
           }
          ],
          "barpolar": [
           {
            "marker": {
             "line": {
              "color": "white",
              "width": 0.5
             },
             "pattern": {
              "fillmode": "overlay",
              "size": 10,
              "solidity": 0.2
             }
            },
            "type": "barpolar"
           }
          ],
          "carpet": [
           {
            "aaxis": {
             "endlinecolor": "#2a3f5f",
             "gridcolor": "#C8D4E3",
             "linecolor": "#C8D4E3",
             "minorgridcolor": "#C8D4E3",
             "startlinecolor": "#2a3f5f"
            },
            "baxis": {
             "endlinecolor": "#2a3f5f",
             "gridcolor": "#C8D4E3",
             "linecolor": "#C8D4E3",
             "minorgridcolor": "#C8D4E3",
             "startlinecolor": "#2a3f5f"
            },
            "type": "carpet"
           }
          ],
          "choropleth": [
           {
            "colorbar": {
             "outlinewidth": 0,
             "ticks": ""
            },
            "type": "choropleth"
           }
          ],
          "contour": [
           {
            "colorbar": {
             "outlinewidth": 0,
             "ticks": ""
            },
            "colorscale": [
             [
              0,
              "#0d0887"
             ],
             [
              0.1111111111111111,
              "#46039f"
             ],
             [
              0.2222222222222222,
              "#7201a8"
             ],
             [
              0.3333333333333333,
              "#9c179e"
             ],
             [
              0.4444444444444444,
              "#bd3786"
             ],
             [
              0.5555555555555556,
              "#d8576b"
             ],
             [
              0.6666666666666666,
              "#ed7953"
             ],
             [
              0.7777777777777778,
              "#fb9f3a"
             ],
             [
              0.8888888888888888,
              "#fdca26"
             ],
             [
              1,
              "#f0f921"
             ]
            ],
            "type": "contour"
           }
          ],
          "contourcarpet": [
           {
            "colorbar": {
             "outlinewidth": 0,
             "ticks": ""
            },
            "type": "contourcarpet"
           }
          ],
          "heatmap": [
           {
            "colorbar": {
             "outlinewidth": 0,
             "ticks": ""
            },
            "colorscale": [
             [
              0,
              "#0d0887"
             ],
             [
              0.1111111111111111,
              "#46039f"
             ],
             [
              0.2222222222222222,
              "#7201a8"
             ],
             [
              0.3333333333333333,
              "#9c179e"
             ],
             [
              0.4444444444444444,
              "#bd3786"
             ],
             [
              0.5555555555555556,
              "#d8576b"
             ],
             [
              0.6666666666666666,
              "#ed7953"
             ],
             [
              0.7777777777777778,
              "#fb9f3a"
             ],
             [
              0.8888888888888888,
              "#fdca26"
             ],
             [
              1,
              "#f0f921"
             ]
            ],
            "type": "heatmap"
           }
          ],
          "heatmapgl": [
           {
            "colorbar": {
             "outlinewidth": 0,
             "ticks": ""
            },
            "colorscale": [
             [
              0,
              "#0d0887"
             ],
             [
              0.1111111111111111,
              "#46039f"
             ],
             [
              0.2222222222222222,
              "#7201a8"
             ],
             [
              0.3333333333333333,
              "#9c179e"
             ],
             [
              0.4444444444444444,
              "#bd3786"
             ],
             [
              0.5555555555555556,
              "#d8576b"
             ],
             [
              0.6666666666666666,
              "#ed7953"
             ],
             [
              0.7777777777777778,
              "#fb9f3a"
             ],
             [
              0.8888888888888888,
              "#fdca26"
             ],
             [
              1,
              "#f0f921"
             ]
            ],
            "type": "heatmapgl"
           }
          ],
          "histogram": [
           {
            "marker": {
             "pattern": {
              "fillmode": "overlay",
              "size": 10,
              "solidity": 0.2
             }
            },
            "type": "histogram"
           }
          ],
          "histogram2d": [
           {
            "colorbar": {
             "outlinewidth": 0,
             "ticks": ""
            },
            "colorscale": [
             [
              0,
              "#0d0887"
             ],
             [
              0.1111111111111111,
              "#46039f"
             ],
             [
              0.2222222222222222,
              "#7201a8"
             ],
             [
              0.3333333333333333,
              "#9c179e"
             ],
             [
              0.4444444444444444,
              "#bd3786"
             ],
             [
              0.5555555555555556,
              "#d8576b"
             ],
             [
              0.6666666666666666,
              "#ed7953"
             ],
             [
              0.7777777777777778,
              "#fb9f3a"
             ],
             [
              0.8888888888888888,
              "#fdca26"
             ],
             [
              1,
              "#f0f921"
             ]
            ],
            "type": "histogram2d"
           }
          ],
          "histogram2dcontour": [
           {
            "colorbar": {
             "outlinewidth": 0,
             "ticks": ""
            },
            "colorscale": [
             [
              0,
              "#0d0887"
             ],
             [
              0.1111111111111111,
              "#46039f"
             ],
             [
              0.2222222222222222,
              "#7201a8"
             ],
             [
              0.3333333333333333,
              "#9c179e"
             ],
             [
              0.4444444444444444,
              "#bd3786"
             ],
             [
              0.5555555555555556,
              "#d8576b"
             ],
             [
              0.6666666666666666,
              "#ed7953"
             ],
             [
              0.7777777777777778,
              "#fb9f3a"
             ],
             [
              0.8888888888888888,
              "#fdca26"
             ],
             [
              1,
              "#f0f921"
             ]
            ],
            "type": "histogram2dcontour"
           }
          ],
          "mesh3d": [
           {
            "colorbar": {
             "outlinewidth": 0,
             "ticks": ""
            },
            "type": "mesh3d"
           }
          ],
          "parcoords": [
           {
            "line": {
             "colorbar": {
              "outlinewidth": 0,
              "ticks": ""
             }
            },
            "type": "parcoords"
           }
          ],
          "pie": [
           {
            "automargin": true,
            "type": "pie"
           }
          ],
          "scatter": [
           {
            "marker": {
             "colorbar": {
              "outlinewidth": 0,
              "ticks": ""
             }
            },
            "type": "scatter"
           }
          ],
          "scatter3d": [
           {
            "line": {
             "colorbar": {
              "outlinewidth": 0,
              "ticks": ""
             }
            },
            "marker": {
             "colorbar": {
              "outlinewidth": 0,
              "ticks": ""
             }
            },
            "type": "scatter3d"
           }
          ],
          "scattercarpet": [
           {
            "marker": {
             "colorbar": {
              "outlinewidth": 0,
              "ticks": ""
             }
            },
            "type": "scattercarpet"
           }
          ],
          "scattergeo": [
           {
            "marker": {
             "colorbar": {
              "outlinewidth": 0,
              "ticks": ""
             }
            },
            "type": "scattergeo"
           }
          ],
          "scattergl": [
           {
            "marker": {
             "colorbar": {
              "outlinewidth": 0,
              "ticks": ""
             }
            },
            "type": "scattergl"
           }
          ],
          "scattermapbox": [
           {
            "marker": {
             "colorbar": {
              "outlinewidth": 0,
              "ticks": ""
             }
            },
            "type": "scattermapbox"
           }
          ],
          "scatterpolar": [
           {
            "marker": {
             "colorbar": {
              "outlinewidth": 0,
              "ticks": ""
             }
            },
            "type": "scatterpolar"
           }
          ],
          "scatterpolargl": [
           {
            "marker": {
             "colorbar": {
              "outlinewidth": 0,
              "ticks": ""
             }
            },
            "type": "scatterpolargl"
           }
          ],
          "scatterternary": [
           {
            "marker": {
             "colorbar": {
              "outlinewidth": 0,
              "ticks": ""
             }
            },
            "type": "scatterternary"
           }
          ],
          "surface": [
           {
            "colorbar": {
             "outlinewidth": 0,
             "ticks": ""
            },
            "colorscale": [
             [
              0,
              "#0d0887"
             ],
             [
              0.1111111111111111,
              "#46039f"
             ],
             [
              0.2222222222222222,
              "#7201a8"
             ],
             [
              0.3333333333333333,
              "#9c179e"
             ],
             [
              0.4444444444444444,
              "#bd3786"
             ],
             [
              0.5555555555555556,
              "#d8576b"
             ],
             [
              0.6666666666666666,
              "#ed7953"
             ],
             [
              0.7777777777777778,
              "#fb9f3a"
             ],
             [
              0.8888888888888888,
              "#fdca26"
             ],
             [
              1,
              "#f0f921"
             ]
            ],
            "type": "surface"
           }
          ],
          "table": [
           {
            "cells": {
             "fill": {
              "color": "#EBF0F8"
             },
             "line": {
              "color": "white"
             }
            },
            "header": {
             "fill": {
              "color": "#C8D4E3"
             },
             "line": {
              "color": "white"
             }
            },
            "type": "table"
           }
          ]
         },
         "layout": {
          "annotationdefaults": {
           "arrowcolor": "#2a3f5f",
           "arrowhead": 0,
           "arrowwidth": 1
          },
          "autotypenumbers": "strict",
          "coloraxis": {
           "colorbar": {
            "outlinewidth": 0,
            "ticks": ""
           }
          },
          "colorscale": {
           "diverging": [
            [
             0,
             "#8e0152"
            ],
            [
             0.1,
             "#c51b7d"
            ],
            [
             0.2,
             "#de77ae"
            ],
            [
             0.3,
             "#f1b6da"
            ],
            [
             0.4,
             "#fde0ef"
            ],
            [
             0.5,
             "#f7f7f7"
            ],
            [
             0.6,
             "#e6f5d0"
            ],
            [
             0.7,
             "#b8e186"
            ],
            [
             0.8,
             "#7fbc41"
            ],
            [
             0.9,
             "#4d9221"
            ],
            [
             1,
             "#276419"
            ]
           ],
           "sequential": [
            [
             0,
             "#0d0887"
            ],
            [
             0.1111111111111111,
             "#46039f"
            ],
            [
             0.2222222222222222,
             "#7201a8"
            ],
            [
             0.3333333333333333,
             "#9c179e"
            ],
            [
             0.4444444444444444,
             "#bd3786"
            ],
            [
             0.5555555555555556,
             "#d8576b"
            ],
            [
             0.6666666666666666,
             "#ed7953"
            ],
            [
             0.7777777777777778,
             "#fb9f3a"
            ],
            [
             0.8888888888888888,
             "#fdca26"
            ],
            [
             1,
             "#f0f921"
            ]
           ],
           "sequentialminus": [
            [
             0,
             "#0d0887"
            ],
            [
             0.1111111111111111,
             "#46039f"
            ],
            [
             0.2222222222222222,
             "#7201a8"
            ],
            [
             0.3333333333333333,
             "#9c179e"
            ],
            [
             0.4444444444444444,
             "#bd3786"
            ],
            [
             0.5555555555555556,
             "#d8576b"
            ],
            [
             0.6666666666666666,
             "#ed7953"
            ],
            [
             0.7777777777777778,
             "#fb9f3a"
            ],
            [
             0.8888888888888888,
             "#fdca26"
            ],
            [
             1,
             "#f0f921"
            ]
           ]
          },
          "colorway": [
           "#636efa",
           "#EF553B",
           "#00cc96",
           "#ab63fa",
           "#FFA15A",
           "#19d3f3",
           "#FF6692",
           "#B6E880",
           "#FF97FF",
           "#FECB52"
          ],
          "font": {
           "color": "#2a3f5f"
          },
          "geo": {
           "bgcolor": "white",
           "lakecolor": "white",
           "landcolor": "white",
           "showlakes": true,
           "showland": true,
           "subunitcolor": "#C8D4E3"
          },
          "hoverlabel": {
           "align": "left"
          },
          "hovermode": "closest",
          "mapbox": {
           "style": "light"
          },
          "paper_bgcolor": "white",
          "plot_bgcolor": "white",
          "polar": {
           "angularaxis": {
            "gridcolor": "#EBF0F8",
            "linecolor": "#EBF0F8",
            "ticks": ""
           },
           "bgcolor": "white",
           "radialaxis": {
            "gridcolor": "#EBF0F8",
            "linecolor": "#EBF0F8",
            "ticks": ""
           }
          },
          "scene": {
           "xaxis": {
            "backgroundcolor": "white",
            "gridcolor": "#DFE8F3",
            "gridwidth": 2,
            "linecolor": "#EBF0F8",
            "showbackground": true,
            "ticks": "",
            "zerolinecolor": "#EBF0F8"
           },
           "yaxis": {
            "backgroundcolor": "white",
            "gridcolor": "#DFE8F3",
            "gridwidth": 2,
            "linecolor": "#EBF0F8",
            "showbackground": true,
            "ticks": "",
            "zerolinecolor": "#EBF0F8"
           },
           "zaxis": {
            "backgroundcolor": "white",
            "gridcolor": "#DFE8F3",
            "gridwidth": 2,
            "linecolor": "#EBF0F8",
            "showbackground": true,
            "ticks": "",
            "zerolinecolor": "#EBF0F8"
           }
          },
          "shapedefaults": {
           "line": {
            "color": "#2a3f5f"
           }
          },
          "ternary": {
           "aaxis": {
            "gridcolor": "#DFE8F3",
            "linecolor": "#A2B1C6",
            "ticks": ""
           },
           "baxis": {
            "gridcolor": "#DFE8F3",
            "linecolor": "#A2B1C6",
            "ticks": ""
           },
           "bgcolor": "white",
           "caxis": {
            "gridcolor": "#DFE8F3",
            "linecolor": "#A2B1C6",
            "ticks": ""
           }
          },
          "title": {
           "x": 0.05
          },
          "xaxis": {
           "automargin": true,
           "gridcolor": "#EBF0F8",
           "linecolor": "#EBF0F8",
           "ticks": "",
           "title": {
            "standoff": 15
           },
           "zerolinecolor": "#EBF0F8",
           "zerolinewidth": 2
          },
          "yaxis": {
           "automargin": true,
           "gridcolor": "#EBF0F8",
           "linecolor": "#EBF0F8",
           "ticks": "",
           "title": {
            "standoff": 15
           },
           "zerolinecolor": "#EBF0F8",
           "zerolinewidth": 2
          }
         }
        },
        "xaxis": {
         "title": {
          "text": "Epochs"
         }
        },
        "yaxis": {
         "title": {
          "text": "$\\|(H+V)u^k - b \\|_2 \\ / \\ \\|(H+V)u^0 - b \\|_2$"
         },
         "type": "log"
        }
       }
      },
      "text/html": [
       "<div>                            <div id=\"ca442c29-2bb0-430c-854a-4817e02ce188\" class=\"plotly-graph-div\" style=\"height:525px; width:100%;\"></div>            <script type=\"text/javascript\">                require([\"plotly\"], function(Plotly) {                    window.PLOTLYENV=window.PLOTLYENV || {};                                    if (document.getElementById(\"ca442c29-2bb0-430c-854a-4817e02ce188\")) {                    Plotly.newPlot(                        \"ca442c29-2bb0-430c-854a-4817e02ce188\",                        [{\"line\":{\"color\":\"#636EFA\",\"dash\":\"solid\"},\"marker\":{\"size\":10,\"symbol\":\"circle\"},\"mode\":\"lines+markers\",\"name\":\"PR-pr_shifts\",\"type\":\"scatter\",\"x\":[0,1,2,3,4,5,6,7,8,9,10,11,12,13,14,15],\"y\":[1.0,0.10801763868641259,0.04200998089008936,0.01929338264781965,0.009682622094779283,0.005208585821255697,0.0030542165889935902,0.001969392366665262,0.001463693656837957,0.0012004321350031683,0.0009731344022968592,0.0007039447630401572,0.00040785690379579857,0.00019720931045231105,0.00015388398281593148,0.0001532158775593936]},{\"line\":{\"color\":\"#EF553B\",\"dash\":\"dot\"},\"marker\":{\"size\":10,\"symbol\":\"square\"},\"mode\":\"lines+markers\",\"name\":\"PR-w_shifts\",\"type\":\"scatter\",\"x\":[0,1,2,3,4,5,6,7,8,9,10,11,12,13,14,15],\"y\":[1.0,0.1455836775771908,0.05482149605092072,0.024637253853607783,0.011900010630986706,0.006080052944208312,0.0033835533497219936,0.002072912857424532,0.0014810534637732411,0.0011916410228991691,0.0009450288130905895,0.0006462559805050285,0.0003172705787480822,7.958567631685483e-05,1.9174814409192757e-05,1.8920159921121998e-05]},{\"line\":{\"color\":\"#00CC96\",\"dash\":\"dash\"},\"marker\":{\"size\":10,\"symbol\":\"star\"},\"mode\":\"lines+markers\",\"name\":\"PR-cst\",\"type\":\"scatter\",\"x\":[0,4,8,12,16,20,24,28,32,36,40],\"y\":[1.0,0.03955878490305107,0.01989962451133436,0.013294997676005803,0.010001118365721874,0.0080429713298056,0.006756201043569107,0.005851843482030551,0.005183651408816224,0.004670108549516326,0.004262730247416638]},{\"line\":{\"color\":\"#AB63FA\",\"dash\":\"longdash\"},\"marker\":{\"size\":10,\"symbol\":\"x\"},\"mode\":\"lines+markers\",\"name\":\"SPR-cst-0.1\",\"type\":\"scatter\",\"x\":[0.0,5.0,10.0,15.0,20.0,25.0,30.0,35.0,40.0,45.0,50.0],\"y\":[1.0,0.03237179010809018,0.016618672233250375,0.011336486868804115,0.008621627785075468,0.006985964040440419,0.005903040721975679,0.005137319868879363,0.004576478153779207,0.004133721616982379,0.003780991266724763]},{\"line\":{\"color\":\"#FFA15A\",\"dash\":\"dashdot\"},\"marker\":{\"size\":10,\"symbol\":\"triangle-up\"},\"mode\":\"lines+markers\",\"name\":\"SPR-cst-0.25\",\"type\":\"scatter\",\"x\":[0.0,5.0,10.0,15.0,20.0,25.0,30.0,35.0,40.0,45.0,50.0],\"y\":[1.0,0.03263601354102078,0.016699398682071983,0.011240015994884807,0.008519188918295907,0.006899950098379764,0.005832304787031243,0.005085108137750812,0.004521969801803077,0.004091478932667119,0.0037382543657158156]}],                        {\"font\":{\"size\":20},\"legend\":{\"bgcolor\":\"rgba(255,255,255,0.8)\",\"title\":{\"text\":\"Methods\"},\"x\":0.99,\"xanchor\":\"right\",\"y\":0.99,\"yanchor\":\"top\"},\"margin\":{\"b\":20,\"l\":20,\"r\":20,\"t\":20},\"template\":{\"data\":{\"bar\":[{\"error_x\":{\"color\":\"#2a3f5f\"},\"error_y\":{\"color\":\"#2a3f5f\"},\"marker\":{\"line\":{\"color\":\"white\",\"width\":0.5},\"pattern\":{\"fillmode\":\"overlay\",\"size\":10,\"solidity\":0.2}},\"type\":\"bar\"}],\"barpolar\":[{\"marker\":{\"line\":{\"color\":\"white\",\"width\":0.5},\"pattern\":{\"fillmode\":\"overlay\",\"size\":10,\"solidity\":0.2}},\"type\":\"barpolar\"}],\"carpet\":[{\"aaxis\":{\"endlinecolor\":\"#2a3f5f\",\"gridcolor\":\"#C8D4E3\",\"linecolor\":\"#C8D4E3\",\"minorgridcolor\":\"#C8D4E3\",\"startlinecolor\":\"#2a3f5f\"},\"baxis\":{\"endlinecolor\":\"#2a3f5f\",\"gridcolor\":\"#C8D4E3\",\"linecolor\":\"#C8D4E3\",\"minorgridcolor\":\"#C8D4E3\",\"startlinecolor\":\"#2a3f5f\"},\"type\":\"carpet\"}],\"choropleth\":[{\"colorbar\":{\"outlinewidth\":0,\"ticks\":\"\"},\"type\":\"choropleth\"}],\"contour\":[{\"colorbar\":{\"outlinewidth\":0,\"ticks\":\"\"},\"colorscale\":[[0.0,\"#0d0887\"],[0.1111111111111111,\"#46039f\"],[0.2222222222222222,\"#7201a8\"],[0.3333333333333333,\"#9c179e\"],[0.4444444444444444,\"#bd3786\"],[0.5555555555555556,\"#d8576b\"],[0.6666666666666666,\"#ed7953\"],[0.7777777777777778,\"#fb9f3a\"],[0.8888888888888888,\"#fdca26\"],[1.0,\"#f0f921\"]],\"type\":\"contour\"}],\"contourcarpet\":[{\"colorbar\":{\"outlinewidth\":0,\"ticks\":\"\"},\"type\":\"contourcarpet\"}],\"heatmap\":[{\"colorbar\":{\"outlinewidth\":0,\"ticks\":\"\"},\"colorscale\":[[0.0,\"#0d0887\"],[0.1111111111111111,\"#46039f\"],[0.2222222222222222,\"#7201a8\"],[0.3333333333333333,\"#9c179e\"],[0.4444444444444444,\"#bd3786\"],[0.5555555555555556,\"#d8576b\"],[0.6666666666666666,\"#ed7953\"],[0.7777777777777778,\"#fb9f3a\"],[0.8888888888888888,\"#fdca26\"],[1.0,\"#f0f921\"]],\"type\":\"heatmap\"}],\"heatmapgl\":[{\"colorbar\":{\"outlinewidth\":0,\"ticks\":\"\"},\"colorscale\":[[0.0,\"#0d0887\"],[0.1111111111111111,\"#46039f\"],[0.2222222222222222,\"#7201a8\"],[0.3333333333333333,\"#9c179e\"],[0.4444444444444444,\"#bd3786\"],[0.5555555555555556,\"#d8576b\"],[0.6666666666666666,\"#ed7953\"],[0.7777777777777778,\"#fb9f3a\"],[0.8888888888888888,\"#fdca26\"],[1.0,\"#f0f921\"]],\"type\":\"heatmapgl\"}],\"histogram\":[{\"marker\":{\"pattern\":{\"fillmode\":\"overlay\",\"size\":10,\"solidity\":0.2}},\"type\":\"histogram\"}],\"histogram2d\":[{\"colorbar\":{\"outlinewidth\":0,\"ticks\":\"\"},\"colorscale\":[[0.0,\"#0d0887\"],[0.1111111111111111,\"#46039f\"],[0.2222222222222222,\"#7201a8\"],[0.3333333333333333,\"#9c179e\"],[0.4444444444444444,\"#bd3786\"],[0.5555555555555556,\"#d8576b\"],[0.6666666666666666,\"#ed7953\"],[0.7777777777777778,\"#fb9f3a\"],[0.8888888888888888,\"#fdca26\"],[1.0,\"#f0f921\"]],\"type\":\"histogram2d\"}],\"histogram2dcontour\":[{\"colorbar\":{\"outlinewidth\":0,\"ticks\":\"\"},\"colorscale\":[[0.0,\"#0d0887\"],[0.1111111111111111,\"#46039f\"],[0.2222222222222222,\"#7201a8\"],[0.3333333333333333,\"#9c179e\"],[0.4444444444444444,\"#bd3786\"],[0.5555555555555556,\"#d8576b\"],[0.6666666666666666,\"#ed7953\"],[0.7777777777777778,\"#fb9f3a\"],[0.8888888888888888,\"#fdca26\"],[1.0,\"#f0f921\"]],\"type\":\"histogram2dcontour\"}],\"mesh3d\":[{\"colorbar\":{\"outlinewidth\":0,\"ticks\":\"\"},\"type\":\"mesh3d\"}],\"parcoords\":[{\"line\":{\"colorbar\":{\"outlinewidth\":0,\"ticks\":\"\"}},\"type\":\"parcoords\"}],\"pie\":[{\"automargin\":true,\"type\":\"pie\"}],\"scatter\":[{\"marker\":{\"colorbar\":{\"outlinewidth\":0,\"ticks\":\"\"}},\"type\":\"scatter\"}],\"scatter3d\":[{\"line\":{\"colorbar\":{\"outlinewidth\":0,\"ticks\":\"\"}},\"marker\":{\"colorbar\":{\"outlinewidth\":0,\"ticks\":\"\"}},\"type\":\"scatter3d\"}],\"scattercarpet\":[{\"marker\":{\"colorbar\":{\"outlinewidth\":0,\"ticks\":\"\"}},\"type\":\"scattercarpet\"}],\"scattergeo\":[{\"marker\":{\"colorbar\":{\"outlinewidth\":0,\"ticks\":\"\"}},\"type\":\"scattergeo\"}],\"scattergl\":[{\"marker\":{\"colorbar\":{\"outlinewidth\":0,\"ticks\":\"\"}},\"type\":\"scattergl\"}],\"scattermapbox\":[{\"marker\":{\"colorbar\":{\"outlinewidth\":0,\"ticks\":\"\"}},\"type\":\"scattermapbox\"}],\"scatterpolar\":[{\"marker\":{\"colorbar\":{\"outlinewidth\":0,\"ticks\":\"\"}},\"type\":\"scatterpolar\"}],\"scatterpolargl\":[{\"marker\":{\"colorbar\":{\"outlinewidth\":0,\"ticks\":\"\"}},\"type\":\"scatterpolargl\"}],\"scatterternary\":[{\"marker\":{\"colorbar\":{\"outlinewidth\":0,\"ticks\":\"\"}},\"type\":\"scatterternary\"}],\"surface\":[{\"colorbar\":{\"outlinewidth\":0,\"ticks\":\"\"},\"colorscale\":[[0.0,\"#0d0887\"],[0.1111111111111111,\"#46039f\"],[0.2222222222222222,\"#7201a8\"],[0.3333333333333333,\"#9c179e\"],[0.4444444444444444,\"#bd3786\"],[0.5555555555555556,\"#d8576b\"],[0.6666666666666666,\"#ed7953\"],[0.7777777777777778,\"#fb9f3a\"],[0.8888888888888888,\"#fdca26\"],[1.0,\"#f0f921\"]],\"type\":\"surface\"}],\"table\":[{\"cells\":{\"fill\":{\"color\":\"#EBF0F8\"},\"line\":{\"color\":\"white\"}},\"header\":{\"fill\":{\"color\":\"#C8D4E3\"},\"line\":{\"color\":\"white\"}},\"type\":\"table\"}]},\"layout\":{\"annotationdefaults\":{\"arrowcolor\":\"#2a3f5f\",\"arrowhead\":0,\"arrowwidth\":1},\"autotypenumbers\":\"strict\",\"coloraxis\":{\"colorbar\":{\"outlinewidth\":0,\"ticks\":\"\"}},\"colorscale\":{\"diverging\":[[0,\"#8e0152\"],[0.1,\"#c51b7d\"],[0.2,\"#de77ae\"],[0.3,\"#f1b6da\"],[0.4,\"#fde0ef\"],[0.5,\"#f7f7f7\"],[0.6,\"#e6f5d0\"],[0.7,\"#b8e186\"],[0.8,\"#7fbc41\"],[0.9,\"#4d9221\"],[1,\"#276419\"]],\"sequential\":[[0.0,\"#0d0887\"],[0.1111111111111111,\"#46039f\"],[0.2222222222222222,\"#7201a8\"],[0.3333333333333333,\"#9c179e\"],[0.4444444444444444,\"#bd3786\"],[0.5555555555555556,\"#d8576b\"],[0.6666666666666666,\"#ed7953\"],[0.7777777777777778,\"#fb9f3a\"],[0.8888888888888888,\"#fdca26\"],[1.0,\"#f0f921\"]],\"sequentialminus\":[[0.0,\"#0d0887\"],[0.1111111111111111,\"#46039f\"],[0.2222222222222222,\"#7201a8\"],[0.3333333333333333,\"#9c179e\"],[0.4444444444444444,\"#bd3786\"],[0.5555555555555556,\"#d8576b\"],[0.6666666666666666,\"#ed7953\"],[0.7777777777777778,\"#fb9f3a\"],[0.8888888888888888,\"#fdca26\"],[1.0,\"#f0f921\"]]},\"colorway\":[\"#636efa\",\"#EF553B\",\"#00cc96\",\"#ab63fa\",\"#FFA15A\",\"#19d3f3\",\"#FF6692\",\"#B6E880\",\"#FF97FF\",\"#FECB52\"],\"font\":{\"color\":\"#2a3f5f\"},\"geo\":{\"bgcolor\":\"white\",\"lakecolor\":\"white\",\"landcolor\":\"white\",\"showlakes\":true,\"showland\":true,\"subunitcolor\":\"#C8D4E3\"},\"hoverlabel\":{\"align\":\"left\"},\"hovermode\":\"closest\",\"mapbox\":{\"style\":\"light\"},\"paper_bgcolor\":\"white\",\"plot_bgcolor\":\"white\",\"polar\":{\"angularaxis\":{\"gridcolor\":\"#EBF0F8\",\"linecolor\":\"#EBF0F8\",\"ticks\":\"\"},\"bgcolor\":\"white\",\"radialaxis\":{\"gridcolor\":\"#EBF0F8\",\"linecolor\":\"#EBF0F8\",\"ticks\":\"\"}},\"scene\":{\"xaxis\":{\"backgroundcolor\":\"white\",\"gridcolor\":\"#DFE8F3\",\"gridwidth\":2,\"linecolor\":\"#EBF0F8\",\"showbackground\":true,\"ticks\":\"\",\"zerolinecolor\":\"#EBF0F8\"},\"yaxis\":{\"backgroundcolor\":\"white\",\"gridcolor\":\"#DFE8F3\",\"gridwidth\":2,\"linecolor\":\"#EBF0F8\",\"showbackground\":true,\"ticks\":\"\",\"zerolinecolor\":\"#EBF0F8\"},\"zaxis\":{\"backgroundcolor\":\"white\",\"gridcolor\":\"#DFE8F3\",\"gridwidth\":2,\"linecolor\":\"#EBF0F8\",\"showbackground\":true,\"ticks\":\"\",\"zerolinecolor\":\"#EBF0F8\"}},\"shapedefaults\":{\"line\":{\"color\":\"#2a3f5f\"}},\"ternary\":{\"aaxis\":{\"gridcolor\":\"#DFE8F3\",\"linecolor\":\"#A2B1C6\",\"ticks\":\"\"},\"baxis\":{\"gridcolor\":\"#DFE8F3\",\"linecolor\":\"#A2B1C6\",\"ticks\":\"\"},\"bgcolor\":\"white\",\"caxis\":{\"gridcolor\":\"#DFE8F3\",\"linecolor\":\"#A2B1C6\",\"ticks\":\"\"}},\"title\":{\"x\":0.05},\"xaxis\":{\"automargin\":true,\"gridcolor\":\"#EBF0F8\",\"linecolor\":\"#EBF0F8\",\"ticks\":\"\",\"title\":{\"standoff\":15},\"zerolinecolor\":\"#EBF0F8\",\"zerolinewidth\":2},\"yaxis\":{\"automargin\":true,\"gridcolor\":\"#EBF0F8\",\"linecolor\":\"#EBF0F8\",\"ticks\":\"\",\"title\":{\"standoff\":15},\"zerolinecolor\":\"#EBF0F8\",\"zerolinewidth\":2}}},\"xaxis\":{\"title\":{\"text\":\"Epochs\"}},\"yaxis\":{\"title\":{\"text\":\"$\\\\|(H+V)u^k - b \\\\|_2 \\\\ / \\\\ \\\\|(H+V)u^0 - b \\\\|_2$\"},\"type\":\"log\"}},                        {\"responsive\": true}                    ).then(function(){\n",
       "                            \n",
       "var gd = document.getElementById('ca442c29-2bb0-430c-854a-4817e02ce188');\n",
       "var x = new MutationObserver(function (mutations, observer) {{\n",
       "        var display = window.getComputedStyle(gd).display;\n",
       "        if (!display || display === 'none') {{\n",
       "            console.log([gd, 'removed!']);\n",
       "            Plotly.purge(gd);\n",
       "            observer.disconnect();\n",
       "        }}\n",
       "}});\n",
       "\n",
       "// Listen for the removal of the full notebook cells\n",
       "var notebookContainer = gd.closest('#notebook-container');\n",
       "if (notebookContainer) {{\n",
       "    x.observe(notebookContainer, {childList: true});\n",
       "}}\n",
       "\n",
       "// Listen for the clearing of the current output cell\n",
       "var outputEl = gd.closest('.output');\n",
       "if (outputEl) {{\n",
       "    x.observe(outputEl, {childList: true});\n",
       "}}\n",
       "\n",
       "                        })                };                });            </script>        </div>"
      ]
     },
     "metadata": {},
     "output_type": "display_data"
    },
    {
     "data": {
      "application/vnd.plotly.v1+json": {
       "config": {
        "plotlyServerURL": "https://plot.ly"
       },
       "data": [
        {
         "line": {
          "color": "#636EFA",
          "dash": "solid"
         },
         "marker": {
          "size": 10,
          "symbol": "circle"
         },
         "mode": "lines+markers",
         "name": "PR-pr_shifts",
         "type": "scatter",
         "x": [
          0,
          1,
          2,
          3,
          4,
          5,
          6,
          7,
          8,
          9,
          10,
          11,
          12,
          13,
          14,
          15
         ],
         "y": [
          1,
          0.9801801669402826,
          0.9721041781011833,
          0.9645931651427846,
          0.9558337922590013,
          0.9439363633861483,
          0.9260440647486204,
          0.8974361490213194,
          0.8501693786847389,
          0.7720637993336437,
          0.6482892293498617,
          0.47072760542542547,
          0.2605316393963115,
          0.08566703977009711,
          0.009256132765404514,
          7.088512774863282e-05
         ]
        },
        {
         "line": {
          "color": "#EF553B",
          "dash": "dot"
         },
         "marker": {
          "size": 10,
          "symbol": "square"
         },
         "mode": "lines+markers",
         "name": "PR-w_shifts",
         "type": "scatter",
         "x": [
          0,
          1,
          2,
          3,
          4,
          5,
          6,
          7,
          8,
          9,
          10,
          11,
          12,
          13,
          14,
          15
         ],
         "y": [
          1,
          0.9822827500552278,
          0.9744235291927745,
          0.9671298132135484,
          0.9587786091003331,
          0.9475318442659921,
          0.9304498568053938,
          0.9024683250661582,
          0.85467876207925,
          0.7727318275055226,
          0.6385763039980348,
          0.4432729858836807,
          0.21859236798438036,
          0.053493462685546125,
          0.0021186294313509917,
          2.81280232060637e-06
         ]
        },
        {
         "line": {
          "color": "#00CC96",
          "dash": "dash"
         },
         "marker": {
          "size": 10,
          "symbol": "star"
         },
         "mode": "lines+markers",
         "name": "PR-cst",
         "type": "scatter",
         "x": [
          0,
          4,
          8,
          12,
          16,
          20,
          24,
          28,
          32,
          36,
          40
         ],
         "y": [
          1,
          0.9714774091902948,
          0.9648249818000361,
          0.9601142806261315,
          0.9562004289975085,
          0.9527240631500895,
          0.9495257706741179,
          0.9465211696999366,
          0.9436602733826626,
          0.9409109891911729,
          0.9382514116881083
         ]
        },
        {
         "line": {
          "color": "#AB63FA",
          "dash": "longdash"
         },
         "marker": {
          "size": 10,
          "symbol": "x"
         },
         "mode": "lines+markers",
         "name": "SPR-cst-0.1",
         "type": "scatter",
         "x": [
          0,
          5,
          10,
          15,
          20,
          25,
          30,
          35,
          40,
          45,
          50
         ],
         "y": [
          1,
          0.9749157143916907,
          0.9680086528697264,
          0.9631040285058303,
          0.9589020905859679,
          0.9551135755410238,
          0.9515602900571473,
          0.9482361158288357,
          0.9450148470287499,
          0.9419009542643567,
          0.938894731942344
         ]
        },
        {
         "line": {
          "color": "#FFA15A",
          "dash": "dashdot"
         },
         "marker": {
          "size": 10,
          "symbol": "triangle-up"
         },
         "mode": "lines+markers",
         "name": "SPR-cst-0.25",
         "type": "scatter",
         "x": [
          0,
          5,
          10,
          15,
          20,
          25,
          30,
          35,
          40,
          45,
          50
         ],
         "y": [
          1,
          0.9746191282795624,
          0.9676716198532566,
          0.9625690306650214,
          0.9583047983854703,
          0.9545135647457174,
          0.9509930901719122,
          0.9476377873444369,
          0.9444044166205134,
          0.9412786766663085,
          0.9383042225263434
         ]
        }
       ],
       "layout": {
        "font": {
         "size": 20
        },
        "legend": {
         "bgcolor": "rgba(255,255,255,0.8)",
         "title": {
          "text": "Methods"
         },
         "x": 0.99,
         "xanchor": "right",
         "y": 0.99,
         "yanchor": "top"
        },
        "margin": {
         "b": 20,
         "l": 20,
         "r": 20,
         "t": 20
        },
        "template": {
         "data": {
          "bar": [
           {
            "error_x": {
             "color": "#2a3f5f"
            },
            "error_y": {
             "color": "#2a3f5f"
            },
            "marker": {
             "line": {
              "color": "white",
              "width": 0.5
             },
             "pattern": {
              "fillmode": "overlay",
              "size": 10,
              "solidity": 0.2
             }
            },
            "type": "bar"
           }
          ],
          "barpolar": [
           {
            "marker": {
             "line": {
              "color": "white",
              "width": 0.5
             },
             "pattern": {
              "fillmode": "overlay",
              "size": 10,
              "solidity": 0.2
             }
            },
            "type": "barpolar"
           }
          ],
          "carpet": [
           {
            "aaxis": {
             "endlinecolor": "#2a3f5f",
             "gridcolor": "#C8D4E3",
             "linecolor": "#C8D4E3",
             "minorgridcolor": "#C8D4E3",
             "startlinecolor": "#2a3f5f"
            },
            "baxis": {
             "endlinecolor": "#2a3f5f",
             "gridcolor": "#C8D4E3",
             "linecolor": "#C8D4E3",
             "minorgridcolor": "#C8D4E3",
             "startlinecolor": "#2a3f5f"
            },
            "type": "carpet"
           }
          ],
          "choropleth": [
           {
            "colorbar": {
             "outlinewidth": 0,
             "ticks": ""
            },
            "type": "choropleth"
           }
          ],
          "contour": [
           {
            "colorbar": {
             "outlinewidth": 0,
             "ticks": ""
            },
            "colorscale": [
             [
              0,
              "#0d0887"
             ],
             [
              0.1111111111111111,
              "#46039f"
             ],
             [
              0.2222222222222222,
              "#7201a8"
             ],
             [
              0.3333333333333333,
              "#9c179e"
             ],
             [
              0.4444444444444444,
              "#bd3786"
             ],
             [
              0.5555555555555556,
              "#d8576b"
             ],
             [
              0.6666666666666666,
              "#ed7953"
             ],
             [
              0.7777777777777778,
              "#fb9f3a"
             ],
             [
              0.8888888888888888,
              "#fdca26"
             ],
             [
              1,
              "#f0f921"
             ]
            ],
            "type": "contour"
           }
          ],
          "contourcarpet": [
           {
            "colorbar": {
             "outlinewidth": 0,
             "ticks": ""
            },
            "type": "contourcarpet"
           }
          ],
          "heatmap": [
           {
            "colorbar": {
             "outlinewidth": 0,
             "ticks": ""
            },
            "colorscale": [
             [
              0,
              "#0d0887"
             ],
             [
              0.1111111111111111,
              "#46039f"
             ],
             [
              0.2222222222222222,
              "#7201a8"
             ],
             [
              0.3333333333333333,
              "#9c179e"
             ],
             [
              0.4444444444444444,
              "#bd3786"
             ],
             [
              0.5555555555555556,
              "#d8576b"
             ],
             [
              0.6666666666666666,
              "#ed7953"
             ],
             [
              0.7777777777777778,
              "#fb9f3a"
             ],
             [
              0.8888888888888888,
              "#fdca26"
             ],
             [
              1,
              "#f0f921"
             ]
            ],
            "type": "heatmap"
           }
          ],
          "heatmapgl": [
           {
            "colorbar": {
             "outlinewidth": 0,
             "ticks": ""
            },
            "colorscale": [
             [
              0,
              "#0d0887"
             ],
             [
              0.1111111111111111,
              "#46039f"
             ],
             [
              0.2222222222222222,
              "#7201a8"
             ],
             [
              0.3333333333333333,
              "#9c179e"
             ],
             [
              0.4444444444444444,
              "#bd3786"
             ],
             [
              0.5555555555555556,
              "#d8576b"
             ],
             [
              0.6666666666666666,
              "#ed7953"
             ],
             [
              0.7777777777777778,
              "#fb9f3a"
             ],
             [
              0.8888888888888888,
              "#fdca26"
             ],
             [
              1,
              "#f0f921"
             ]
            ],
            "type": "heatmapgl"
           }
          ],
          "histogram": [
           {
            "marker": {
             "pattern": {
              "fillmode": "overlay",
              "size": 10,
              "solidity": 0.2
             }
            },
            "type": "histogram"
           }
          ],
          "histogram2d": [
           {
            "colorbar": {
             "outlinewidth": 0,
             "ticks": ""
            },
            "colorscale": [
             [
              0,
              "#0d0887"
             ],
             [
              0.1111111111111111,
              "#46039f"
             ],
             [
              0.2222222222222222,
              "#7201a8"
             ],
             [
              0.3333333333333333,
              "#9c179e"
             ],
             [
              0.4444444444444444,
              "#bd3786"
             ],
             [
              0.5555555555555556,
              "#d8576b"
             ],
             [
              0.6666666666666666,
              "#ed7953"
             ],
             [
              0.7777777777777778,
              "#fb9f3a"
             ],
             [
              0.8888888888888888,
              "#fdca26"
             ],
             [
              1,
              "#f0f921"
             ]
            ],
            "type": "histogram2d"
           }
          ],
          "histogram2dcontour": [
           {
            "colorbar": {
             "outlinewidth": 0,
             "ticks": ""
            },
            "colorscale": [
             [
              0,
              "#0d0887"
             ],
             [
              0.1111111111111111,
              "#46039f"
             ],
             [
              0.2222222222222222,
              "#7201a8"
             ],
             [
              0.3333333333333333,
              "#9c179e"
             ],
             [
              0.4444444444444444,
              "#bd3786"
             ],
             [
              0.5555555555555556,
              "#d8576b"
             ],
             [
              0.6666666666666666,
              "#ed7953"
             ],
             [
              0.7777777777777778,
              "#fb9f3a"
             ],
             [
              0.8888888888888888,
              "#fdca26"
             ],
             [
              1,
              "#f0f921"
             ]
            ],
            "type": "histogram2dcontour"
           }
          ],
          "mesh3d": [
           {
            "colorbar": {
             "outlinewidth": 0,
             "ticks": ""
            },
            "type": "mesh3d"
           }
          ],
          "parcoords": [
           {
            "line": {
             "colorbar": {
              "outlinewidth": 0,
              "ticks": ""
             }
            },
            "type": "parcoords"
           }
          ],
          "pie": [
           {
            "automargin": true,
            "type": "pie"
           }
          ],
          "scatter": [
           {
            "marker": {
             "colorbar": {
              "outlinewidth": 0,
              "ticks": ""
             }
            },
            "type": "scatter"
           }
          ],
          "scatter3d": [
           {
            "line": {
             "colorbar": {
              "outlinewidth": 0,
              "ticks": ""
             }
            },
            "marker": {
             "colorbar": {
              "outlinewidth": 0,
              "ticks": ""
             }
            },
            "type": "scatter3d"
           }
          ],
          "scattercarpet": [
           {
            "marker": {
             "colorbar": {
              "outlinewidth": 0,
              "ticks": ""
             }
            },
            "type": "scattercarpet"
           }
          ],
          "scattergeo": [
           {
            "marker": {
             "colorbar": {
              "outlinewidth": 0,
              "ticks": ""
             }
            },
            "type": "scattergeo"
           }
          ],
          "scattergl": [
           {
            "marker": {
             "colorbar": {
              "outlinewidth": 0,
              "ticks": ""
             }
            },
            "type": "scattergl"
           }
          ],
          "scattermapbox": [
           {
            "marker": {
             "colorbar": {
              "outlinewidth": 0,
              "ticks": ""
             }
            },
            "type": "scattermapbox"
           }
          ],
          "scatterpolar": [
           {
            "marker": {
             "colorbar": {
              "outlinewidth": 0,
              "ticks": ""
             }
            },
            "type": "scatterpolar"
           }
          ],
          "scatterpolargl": [
           {
            "marker": {
             "colorbar": {
              "outlinewidth": 0,
              "ticks": ""
             }
            },
            "type": "scatterpolargl"
           }
          ],
          "scatterternary": [
           {
            "marker": {
             "colorbar": {
              "outlinewidth": 0,
              "ticks": ""
             }
            },
            "type": "scatterternary"
           }
          ],
          "surface": [
           {
            "colorbar": {
             "outlinewidth": 0,
             "ticks": ""
            },
            "colorscale": [
             [
              0,
              "#0d0887"
             ],
             [
              0.1111111111111111,
              "#46039f"
             ],
             [
              0.2222222222222222,
              "#7201a8"
             ],
             [
              0.3333333333333333,
              "#9c179e"
             ],
             [
              0.4444444444444444,
              "#bd3786"
             ],
             [
              0.5555555555555556,
              "#d8576b"
             ],
             [
              0.6666666666666666,
              "#ed7953"
             ],
             [
              0.7777777777777778,
              "#fb9f3a"
             ],
             [
              0.8888888888888888,
              "#fdca26"
             ],
             [
              1,
              "#f0f921"
             ]
            ],
            "type": "surface"
           }
          ],
          "table": [
           {
            "cells": {
             "fill": {
              "color": "#EBF0F8"
             },
             "line": {
              "color": "white"
             }
            },
            "header": {
             "fill": {
              "color": "#C8D4E3"
             },
             "line": {
              "color": "white"
             }
            },
            "type": "table"
           }
          ]
         },
         "layout": {
          "annotationdefaults": {
           "arrowcolor": "#2a3f5f",
           "arrowhead": 0,
           "arrowwidth": 1
          },
          "autotypenumbers": "strict",
          "coloraxis": {
           "colorbar": {
            "outlinewidth": 0,
            "ticks": ""
           }
          },
          "colorscale": {
           "diverging": [
            [
             0,
             "#8e0152"
            ],
            [
             0.1,
             "#c51b7d"
            ],
            [
             0.2,
             "#de77ae"
            ],
            [
             0.3,
             "#f1b6da"
            ],
            [
             0.4,
             "#fde0ef"
            ],
            [
             0.5,
             "#f7f7f7"
            ],
            [
             0.6,
             "#e6f5d0"
            ],
            [
             0.7,
             "#b8e186"
            ],
            [
             0.8,
             "#7fbc41"
            ],
            [
             0.9,
             "#4d9221"
            ],
            [
             1,
             "#276419"
            ]
           ],
           "sequential": [
            [
             0,
             "#0d0887"
            ],
            [
             0.1111111111111111,
             "#46039f"
            ],
            [
             0.2222222222222222,
             "#7201a8"
            ],
            [
             0.3333333333333333,
             "#9c179e"
            ],
            [
             0.4444444444444444,
             "#bd3786"
            ],
            [
             0.5555555555555556,
             "#d8576b"
            ],
            [
             0.6666666666666666,
             "#ed7953"
            ],
            [
             0.7777777777777778,
             "#fb9f3a"
            ],
            [
             0.8888888888888888,
             "#fdca26"
            ],
            [
             1,
             "#f0f921"
            ]
           ],
           "sequentialminus": [
            [
             0,
             "#0d0887"
            ],
            [
             0.1111111111111111,
             "#46039f"
            ],
            [
             0.2222222222222222,
             "#7201a8"
            ],
            [
             0.3333333333333333,
             "#9c179e"
            ],
            [
             0.4444444444444444,
             "#bd3786"
            ],
            [
             0.5555555555555556,
             "#d8576b"
            ],
            [
             0.6666666666666666,
             "#ed7953"
            ],
            [
             0.7777777777777778,
             "#fb9f3a"
            ],
            [
             0.8888888888888888,
             "#fdca26"
            ],
            [
             1,
             "#f0f921"
            ]
           ]
          },
          "colorway": [
           "#636efa",
           "#EF553B",
           "#00cc96",
           "#ab63fa",
           "#FFA15A",
           "#19d3f3",
           "#FF6692",
           "#B6E880",
           "#FF97FF",
           "#FECB52"
          ],
          "font": {
           "color": "#2a3f5f"
          },
          "geo": {
           "bgcolor": "white",
           "lakecolor": "white",
           "landcolor": "white",
           "showlakes": true,
           "showland": true,
           "subunitcolor": "#C8D4E3"
          },
          "hoverlabel": {
           "align": "left"
          },
          "hovermode": "closest",
          "mapbox": {
           "style": "light"
          },
          "paper_bgcolor": "white",
          "plot_bgcolor": "white",
          "polar": {
           "angularaxis": {
            "gridcolor": "#EBF0F8",
            "linecolor": "#EBF0F8",
            "ticks": ""
           },
           "bgcolor": "white",
           "radialaxis": {
            "gridcolor": "#EBF0F8",
            "linecolor": "#EBF0F8",
            "ticks": ""
           }
          },
          "scene": {
           "xaxis": {
            "backgroundcolor": "white",
            "gridcolor": "#DFE8F3",
            "gridwidth": 2,
            "linecolor": "#EBF0F8",
            "showbackground": true,
            "ticks": "",
            "zerolinecolor": "#EBF0F8"
           },
           "yaxis": {
            "backgroundcolor": "white",
            "gridcolor": "#DFE8F3",
            "gridwidth": 2,
            "linecolor": "#EBF0F8",
            "showbackground": true,
            "ticks": "",
            "zerolinecolor": "#EBF0F8"
           },
           "zaxis": {
            "backgroundcolor": "white",
            "gridcolor": "#DFE8F3",
            "gridwidth": 2,
            "linecolor": "#EBF0F8",
            "showbackground": true,
            "ticks": "",
            "zerolinecolor": "#EBF0F8"
           }
          },
          "shapedefaults": {
           "line": {
            "color": "#2a3f5f"
           }
          },
          "ternary": {
           "aaxis": {
            "gridcolor": "#DFE8F3",
            "linecolor": "#A2B1C6",
            "ticks": ""
           },
           "baxis": {
            "gridcolor": "#DFE8F3",
            "linecolor": "#A2B1C6",
            "ticks": ""
           },
           "bgcolor": "white",
           "caxis": {
            "gridcolor": "#DFE8F3",
            "linecolor": "#A2B1C6",
            "ticks": ""
           }
          },
          "title": {
           "x": 0.05
          },
          "xaxis": {
           "automargin": true,
           "gridcolor": "#EBF0F8",
           "linecolor": "#EBF0F8",
           "ticks": "",
           "title": {
            "standoff": 15
           },
           "zerolinecolor": "#EBF0F8",
           "zerolinewidth": 2
          },
          "yaxis": {
           "automargin": true,
           "gridcolor": "#EBF0F8",
           "linecolor": "#EBF0F8",
           "ticks": "",
           "title": {
            "standoff": 15
           },
           "zerolinecolor": "#EBF0F8",
           "zerolinewidth": 2
          }
         }
        },
        "xaxis": {
         "title": {
          "text": "Epochs"
         }
        },
        "yaxis": {
         "title": {
          "text": "$\\|u^k - u^*\\|_2 \\ / \\ \\|u^0 - u^*\\|_2$"
         },
         "type": "log"
        }
       }
      },
      "text/html": [
       "<div>                            <div id=\"dfbeabf1-6947-4e48-8fe4-1e9a05869f5b\" class=\"plotly-graph-div\" style=\"height:525px; width:100%;\"></div>            <script type=\"text/javascript\">                require([\"plotly\"], function(Plotly) {                    window.PLOTLYENV=window.PLOTLYENV || {};                                    if (document.getElementById(\"dfbeabf1-6947-4e48-8fe4-1e9a05869f5b\")) {                    Plotly.newPlot(                        \"dfbeabf1-6947-4e48-8fe4-1e9a05869f5b\",                        [{\"line\":{\"color\":\"#636EFA\",\"dash\":\"solid\"},\"marker\":{\"size\":10,\"symbol\":\"circle\"},\"mode\":\"lines+markers\",\"name\":\"PR-pr_shifts\",\"type\":\"scatter\",\"x\":[0,1,2,3,4,5,6,7,8,9,10,11,12,13,14,15],\"y\":[1.0,0.9801801669402826,0.9721041781011833,0.9645931651427846,0.9558337922590013,0.9439363633861483,0.9260440647486204,0.8974361490213194,0.8501693786847389,0.7720637993336437,0.6482892293498617,0.47072760542542547,0.2605316393963115,0.08566703977009711,0.009256132765404514,7.088512774863282e-05]},{\"line\":{\"color\":\"#EF553B\",\"dash\":\"dot\"},\"marker\":{\"size\":10,\"symbol\":\"square\"},\"mode\":\"lines+markers\",\"name\":\"PR-w_shifts\",\"type\":\"scatter\",\"x\":[0,1,2,3,4,5,6,7,8,9,10,11,12,13,14,15],\"y\":[1.0,0.9822827500552278,0.9744235291927745,0.9671298132135484,0.9587786091003331,0.9475318442659921,0.9304498568053938,0.9024683250661582,0.85467876207925,0.7727318275055226,0.6385763039980348,0.4432729858836807,0.21859236798438036,0.053493462685546125,0.0021186294313509917,2.81280232060637e-06]},{\"line\":{\"color\":\"#00CC96\",\"dash\":\"dash\"},\"marker\":{\"size\":10,\"symbol\":\"star\"},\"mode\":\"lines+markers\",\"name\":\"PR-cst\",\"type\":\"scatter\",\"x\":[0,4,8,12,16,20,24,28,32,36,40],\"y\":[1.0,0.9714774091902948,0.9648249818000361,0.9601142806261315,0.9562004289975085,0.9527240631500895,0.9495257706741179,0.9465211696999366,0.9436602733826626,0.9409109891911729,0.9382514116881083]},{\"line\":{\"color\":\"#AB63FA\",\"dash\":\"longdash\"},\"marker\":{\"size\":10,\"symbol\":\"x\"},\"mode\":\"lines+markers\",\"name\":\"SPR-cst-0.1\",\"type\":\"scatter\",\"x\":[0.0,5.0,10.0,15.0,20.0,25.0,30.0,35.0,40.0,45.0,50.0],\"y\":[1.0,0.9749157143916907,0.9680086528697264,0.9631040285058303,0.9589020905859679,0.9551135755410238,0.9515602900571473,0.9482361158288357,0.9450148470287499,0.9419009542643567,0.938894731942344]},{\"line\":{\"color\":\"#FFA15A\",\"dash\":\"dashdot\"},\"marker\":{\"size\":10,\"symbol\":\"triangle-up\"},\"mode\":\"lines+markers\",\"name\":\"SPR-cst-0.25\",\"type\":\"scatter\",\"x\":[0.0,5.0,10.0,15.0,20.0,25.0,30.0,35.0,40.0,45.0,50.0],\"y\":[1.0,0.9746191282795624,0.9676716198532566,0.9625690306650214,0.9583047983854703,0.9545135647457174,0.9509930901719122,0.9476377873444369,0.9444044166205134,0.9412786766663085,0.9383042225263434]}],                        {\"font\":{\"size\":20},\"legend\":{\"bgcolor\":\"rgba(255,255,255,0.8)\",\"title\":{\"text\":\"Methods\"},\"x\":0.99,\"xanchor\":\"right\",\"y\":0.99,\"yanchor\":\"top\"},\"margin\":{\"b\":20,\"l\":20,\"r\":20,\"t\":20},\"template\":{\"data\":{\"bar\":[{\"error_x\":{\"color\":\"#2a3f5f\"},\"error_y\":{\"color\":\"#2a3f5f\"},\"marker\":{\"line\":{\"color\":\"white\",\"width\":0.5},\"pattern\":{\"fillmode\":\"overlay\",\"size\":10,\"solidity\":0.2}},\"type\":\"bar\"}],\"barpolar\":[{\"marker\":{\"line\":{\"color\":\"white\",\"width\":0.5},\"pattern\":{\"fillmode\":\"overlay\",\"size\":10,\"solidity\":0.2}},\"type\":\"barpolar\"}],\"carpet\":[{\"aaxis\":{\"endlinecolor\":\"#2a3f5f\",\"gridcolor\":\"#C8D4E3\",\"linecolor\":\"#C8D4E3\",\"minorgridcolor\":\"#C8D4E3\",\"startlinecolor\":\"#2a3f5f\"},\"baxis\":{\"endlinecolor\":\"#2a3f5f\",\"gridcolor\":\"#C8D4E3\",\"linecolor\":\"#C8D4E3\",\"minorgridcolor\":\"#C8D4E3\",\"startlinecolor\":\"#2a3f5f\"},\"type\":\"carpet\"}],\"choropleth\":[{\"colorbar\":{\"outlinewidth\":0,\"ticks\":\"\"},\"type\":\"choropleth\"}],\"contour\":[{\"colorbar\":{\"outlinewidth\":0,\"ticks\":\"\"},\"colorscale\":[[0.0,\"#0d0887\"],[0.1111111111111111,\"#46039f\"],[0.2222222222222222,\"#7201a8\"],[0.3333333333333333,\"#9c179e\"],[0.4444444444444444,\"#bd3786\"],[0.5555555555555556,\"#d8576b\"],[0.6666666666666666,\"#ed7953\"],[0.7777777777777778,\"#fb9f3a\"],[0.8888888888888888,\"#fdca26\"],[1.0,\"#f0f921\"]],\"type\":\"contour\"}],\"contourcarpet\":[{\"colorbar\":{\"outlinewidth\":0,\"ticks\":\"\"},\"type\":\"contourcarpet\"}],\"heatmap\":[{\"colorbar\":{\"outlinewidth\":0,\"ticks\":\"\"},\"colorscale\":[[0.0,\"#0d0887\"],[0.1111111111111111,\"#46039f\"],[0.2222222222222222,\"#7201a8\"],[0.3333333333333333,\"#9c179e\"],[0.4444444444444444,\"#bd3786\"],[0.5555555555555556,\"#d8576b\"],[0.6666666666666666,\"#ed7953\"],[0.7777777777777778,\"#fb9f3a\"],[0.8888888888888888,\"#fdca26\"],[1.0,\"#f0f921\"]],\"type\":\"heatmap\"}],\"heatmapgl\":[{\"colorbar\":{\"outlinewidth\":0,\"ticks\":\"\"},\"colorscale\":[[0.0,\"#0d0887\"],[0.1111111111111111,\"#46039f\"],[0.2222222222222222,\"#7201a8\"],[0.3333333333333333,\"#9c179e\"],[0.4444444444444444,\"#bd3786\"],[0.5555555555555556,\"#d8576b\"],[0.6666666666666666,\"#ed7953\"],[0.7777777777777778,\"#fb9f3a\"],[0.8888888888888888,\"#fdca26\"],[1.0,\"#f0f921\"]],\"type\":\"heatmapgl\"}],\"histogram\":[{\"marker\":{\"pattern\":{\"fillmode\":\"overlay\",\"size\":10,\"solidity\":0.2}},\"type\":\"histogram\"}],\"histogram2d\":[{\"colorbar\":{\"outlinewidth\":0,\"ticks\":\"\"},\"colorscale\":[[0.0,\"#0d0887\"],[0.1111111111111111,\"#46039f\"],[0.2222222222222222,\"#7201a8\"],[0.3333333333333333,\"#9c179e\"],[0.4444444444444444,\"#bd3786\"],[0.5555555555555556,\"#d8576b\"],[0.6666666666666666,\"#ed7953\"],[0.7777777777777778,\"#fb9f3a\"],[0.8888888888888888,\"#fdca26\"],[1.0,\"#f0f921\"]],\"type\":\"histogram2d\"}],\"histogram2dcontour\":[{\"colorbar\":{\"outlinewidth\":0,\"ticks\":\"\"},\"colorscale\":[[0.0,\"#0d0887\"],[0.1111111111111111,\"#46039f\"],[0.2222222222222222,\"#7201a8\"],[0.3333333333333333,\"#9c179e\"],[0.4444444444444444,\"#bd3786\"],[0.5555555555555556,\"#d8576b\"],[0.6666666666666666,\"#ed7953\"],[0.7777777777777778,\"#fb9f3a\"],[0.8888888888888888,\"#fdca26\"],[1.0,\"#f0f921\"]],\"type\":\"histogram2dcontour\"}],\"mesh3d\":[{\"colorbar\":{\"outlinewidth\":0,\"ticks\":\"\"},\"type\":\"mesh3d\"}],\"parcoords\":[{\"line\":{\"colorbar\":{\"outlinewidth\":0,\"ticks\":\"\"}},\"type\":\"parcoords\"}],\"pie\":[{\"automargin\":true,\"type\":\"pie\"}],\"scatter\":[{\"marker\":{\"colorbar\":{\"outlinewidth\":0,\"ticks\":\"\"}},\"type\":\"scatter\"}],\"scatter3d\":[{\"line\":{\"colorbar\":{\"outlinewidth\":0,\"ticks\":\"\"}},\"marker\":{\"colorbar\":{\"outlinewidth\":0,\"ticks\":\"\"}},\"type\":\"scatter3d\"}],\"scattercarpet\":[{\"marker\":{\"colorbar\":{\"outlinewidth\":0,\"ticks\":\"\"}},\"type\":\"scattercarpet\"}],\"scattergeo\":[{\"marker\":{\"colorbar\":{\"outlinewidth\":0,\"ticks\":\"\"}},\"type\":\"scattergeo\"}],\"scattergl\":[{\"marker\":{\"colorbar\":{\"outlinewidth\":0,\"ticks\":\"\"}},\"type\":\"scattergl\"}],\"scattermapbox\":[{\"marker\":{\"colorbar\":{\"outlinewidth\":0,\"ticks\":\"\"}},\"type\":\"scattermapbox\"}],\"scatterpolar\":[{\"marker\":{\"colorbar\":{\"outlinewidth\":0,\"ticks\":\"\"}},\"type\":\"scatterpolar\"}],\"scatterpolargl\":[{\"marker\":{\"colorbar\":{\"outlinewidth\":0,\"ticks\":\"\"}},\"type\":\"scatterpolargl\"}],\"scatterternary\":[{\"marker\":{\"colorbar\":{\"outlinewidth\":0,\"ticks\":\"\"}},\"type\":\"scatterternary\"}],\"surface\":[{\"colorbar\":{\"outlinewidth\":0,\"ticks\":\"\"},\"colorscale\":[[0.0,\"#0d0887\"],[0.1111111111111111,\"#46039f\"],[0.2222222222222222,\"#7201a8\"],[0.3333333333333333,\"#9c179e\"],[0.4444444444444444,\"#bd3786\"],[0.5555555555555556,\"#d8576b\"],[0.6666666666666666,\"#ed7953\"],[0.7777777777777778,\"#fb9f3a\"],[0.8888888888888888,\"#fdca26\"],[1.0,\"#f0f921\"]],\"type\":\"surface\"}],\"table\":[{\"cells\":{\"fill\":{\"color\":\"#EBF0F8\"},\"line\":{\"color\":\"white\"}},\"header\":{\"fill\":{\"color\":\"#C8D4E3\"},\"line\":{\"color\":\"white\"}},\"type\":\"table\"}]},\"layout\":{\"annotationdefaults\":{\"arrowcolor\":\"#2a3f5f\",\"arrowhead\":0,\"arrowwidth\":1},\"autotypenumbers\":\"strict\",\"coloraxis\":{\"colorbar\":{\"outlinewidth\":0,\"ticks\":\"\"}},\"colorscale\":{\"diverging\":[[0,\"#8e0152\"],[0.1,\"#c51b7d\"],[0.2,\"#de77ae\"],[0.3,\"#f1b6da\"],[0.4,\"#fde0ef\"],[0.5,\"#f7f7f7\"],[0.6,\"#e6f5d0\"],[0.7,\"#b8e186\"],[0.8,\"#7fbc41\"],[0.9,\"#4d9221\"],[1,\"#276419\"]],\"sequential\":[[0.0,\"#0d0887\"],[0.1111111111111111,\"#46039f\"],[0.2222222222222222,\"#7201a8\"],[0.3333333333333333,\"#9c179e\"],[0.4444444444444444,\"#bd3786\"],[0.5555555555555556,\"#d8576b\"],[0.6666666666666666,\"#ed7953\"],[0.7777777777777778,\"#fb9f3a\"],[0.8888888888888888,\"#fdca26\"],[1.0,\"#f0f921\"]],\"sequentialminus\":[[0.0,\"#0d0887\"],[0.1111111111111111,\"#46039f\"],[0.2222222222222222,\"#7201a8\"],[0.3333333333333333,\"#9c179e\"],[0.4444444444444444,\"#bd3786\"],[0.5555555555555556,\"#d8576b\"],[0.6666666666666666,\"#ed7953\"],[0.7777777777777778,\"#fb9f3a\"],[0.8888888888888888,\"#fdca26\"],[1.0,\"#f0f921\"]]},\"colorway\":[\"#636efa\",\"#EF553B\",\"#00cc96\",\"#ab63fa\",\"#FFA15A\",\"#19d3f3\",\"#FF6692\",\"#B6E880\",\"#FF97FF\",\"#FECB52\"],\"font\":{\"color\":\"#2a3f5f\"},\"geo\":{\"bgcolor\":\"white\",\"lakecolor\":\"white\",\"landcolor\":\"white\",\"showlakes\":true,\"showland\":true,\"subunitcolor\":\"#C8D4E3\"},\"hoverlabel\":{\"align\":\"left\"},\"hovermode\":\"closest\",\"mapbox\":{\"style\":\"light\"},\"paper_bgcolor\":\"white\",\"plot_bgcolor\":\"white\",\"polar\":{\"angularaxis\":{\"gridcolor\":\"#EBF0F8\",\"linecolor\":\"#EBF0F8\",\"ticks\":\"\"},\"bgcolor\":\"white\",\"radialaxis\":{\"gridcolor\":\"#EBF0F8\",\"linecolor\":\"#EBF0F8\",\"ticks\":\"\"}},\"scene\":{\"xaxis\":{\"backgroundcolor\":\"white\",\"gridcolor\":\"#DFE8F3\",\"gridwidth\":2,\"linecolor\":\"#EBF0F8\",\"showbackground\":true,\"ticks\":\"\",\"zerolinecolor\":\"#EBF0F8\"},\"yaxis\":{\"backgroundcolor\":\"white\",\"gridcolor\":\"#DFE8F3\",\"gridwidth\":2,\"linecolor\":\"#EBF0F8\",\"showbackground\":true,\"ticks\":\"\",\"zerolinecolor\":\"#EBF0F8\"},\"zaxis\":{\"backgroundcolor\":\"white\",\"gridcolor\":\"#DFE8F3\",\"gridwidth\":2,\"linecolor\":\"#EBF0F8\",\"showbackground\":true,\"ticks\":\"\",\"zerolinecolor\":\"#EBF0F8\"}},\"shapedefaults\":{\"line\":{\"color\":\"#2a3f5f\"}},\"ternary\":{\"aaxis\":{\"gridcolor\":\"#DFE8F3\",\"linecolor\":\"#A2B1C6\",\"ticks\":\"\"},\"baxis\":{\"gridcolor\":\"#DFE8F3\",\"linecolor\":\"#A2B1C6\",\"ticks\":\"\"},\"bgcolor\":\"white\",\"caxis\":{\"gridcolor\":\"#DFE8F3\",\"linecolor\":\"#A2B1C6\",\"ticks\":\"\"}},\"title\":{\"x\":0.05},\"xaxis\":{\"automargin\":true,\"gridcolor\":\"#EBF0F8\",\"linecolor\":\"#EBF0F8\",\"ticks\":\"\",\"title\":{\"standoff\":15},\"zerolinecolor\":\"#EBF0F8\",\"zerolinewidth\":2},\"yaxis\":{\"automargin\":true,\"gridcolor\":\"#EBF0F8\",\"linecolor\":\"#EBF0F8\",\"ticks\":\"\",\"title\":{\"standoff\":15},\"zerolinecolor\":\"#EBF0F8\",\"zerolinewidth\":2}}},\"xaxis\":{\"title\":{\"text\":\"Epochs\"}},\"yaxis\":{\"title\":{\"text\":\"$\\\\|u^k - u^*\\\\|_2 \\\\ / \\\\ \\\\|u^0 - u^*\\\\|_2$\"},\"type\":\"log\"}},                        {\"responsive\": true}                    ).then(function(){\n",
       "                            \n",
       "var gd = document.getElementById('dfbeabf1-6947-4e48-8fe4-1e9a05869f5b');\n",
       "var x = new MutationObserver(function (mutations, observer) {{\n",
       "        var display = window.getComputedStyle(gd).display;\n",
       "        if (!display || display === 'none') {{\n",
       "            console.log([gd, 'removed!']);\n",
       "            Plotly.purge(gd);\n",
       "            observer.disconnect();\n",
       "        }}\n",
       "}});\n",
       "\n",
       "// Listen for the removal of the full notebook cells\n",
       "var notebookContainer = gd.closest('#notebook-container');\n",
       "if (notebookContainer) {{\n",
       "    x.observe(notebookContainer, {childList: true});\n",
       "}}\n",
       "\n",
       "// Listen for the clearing of the current output cell\n",
       "var outputEl = gd.closest('.output');\n",
       "if (outputEl) {{\n",
       "    x.observe(outputEl, {childList: true});\n",
       "}}\n",
       "\n",
       "                        })                };                });            </script>        </div>"
      ]
     },
     "metadata": {},
     "output_type": "display_data"
    },
    {
     "data": {
      "application/vnd.plotly.v1+json": {
       "config": {
        "plotlyServerURL": "https://plot.ly"
       },
       "data": [
        {
         "line": {
          "color": "#636EFA",
          "dash": "solid"
         },
         "marker": {
          "size": 10,
          "symbol": "circle"
         },
         "mode": "lines+markers",
         "name": "PR-pr_shifts",
         "type": "scatter",
         "x": [
          110.58188962936401,
          121.20984935760498,
          132.19085264205933,
          143.46513867378235,
          154.79527020454407,
          166.32257676124573,
          180.15512704849243,
          193.9432065486908,
          207.71113276481628,
          229.03536438941956,
          245.59436535835266,
          256.65081334114075,
          268.04134011268616,
          280.6645827293396,
          294.527713060379,
          308.3512806892395
         ],
         "y": [
          1,
          0.10801763868641259,
          0.04200998089008936,
          0.01929338264781965,
          0.009682622094779283,
          0.005208585821255697,
          0.0030542165889935902,
          0.001969392366665262,
          0.001463693656837957,
          0.0012004321350031683,
          0.0009731344022968592,
          0.0007039447630401572,
          0.00040785690379579857,
          0.00019720931045231105,
          0.00015388398281593148,
          0.0001532158775593936
         ]
        },
        {
         "line": {
          "color": "#EF553B",
          "dash": "dot"
         },
         "marker": {
          "size": 10,
          "symbol": "square"
         },
         "mode": "lines+markers",
         "name": "PR-w_shifts",
         "type": "scatter",
         "x": [
          110.58195757865906,
          133.38460302352905,
          148.9824824333191,
          160.1458399295807,
          171.5192413330078,
          184.25498151779175,
          198.1400752067566,
          211.99324464797974,
          234.8786063194275,
          252.01120495796204,
          263.11337661743164,
          274.469131231308,
          287.16259932518005,
          301.10400581359863,
          315.12474393844604,
          338.080561876297
         ],
         "y": [
          1,
          0.1455836775771908,
          0.05482149605092072,
          0.024637253853607783,
          0.011900010630986706,
          0.006080052944208312,
          0.0033835533497219936,
          0.002072912857424532,
          0.0014810534637732411,
          0.0011916410228991691,
          0.0009450288130905895,
          0.0006462559805050285,
          0.0003172705787480822,
          7.958567631685483e-05,
          1.9174814409192757e-05,
          1.8920159921121998e-05
         ]
        },
        {
         "line": {
          "color": "#00CC96",
          "dash": "dash"
         },
         "marker": {
          "size": 10,
          "symbol": "star"
         },
         "mode": "lines+markers",
         "name": "PR-cst",
         "type": "scatter",
         "x": [
          0.20853853225708008,
          51.68785500526428,
          120.28821587562561,
          169.32296895980835,
          236.64840006828308,
          288.6047716140747,
          354.5635235309601,
          411.0627245903015,
          471.4643657207489,
          537.2849299907684,
          590.6365444660187
         ],
         "y": [
          1,
          0.03955878490305107,
          0.01989962451133436,
          0.013294997676005803,
          0.010001118365721874,
          0.0080429713298056,
          0.006756201043569107,
          0.005851843482030551,
          0.005183651408816224,
          0.004670108549516326,
          0.004262730247416638
         ]
        },
        {
         "line": {
          "color": "#AB63FA",
          "dash": "longdash"
         },
         "marker": {
          "size": 10,
          "symbol": "x"
         },
         "mode": "lines+markers",
         "name": "SPR-cst-0.1",
         "type": "scatter",
         "x": [
          0.20853853225708008,
          28.181654691696167,
          67.6235282421112,
          92.02970218658447,
          119.90567255020142,
          159.52264213562012,
          186.8069212436676,
          212.58240604400635,
          245.09942531585693,
          284.75251722335815,
          309.0359613895416
         ],
         "y": [
          1,
          0.03237179010809018,
          0.016618672233250375,
          0.011336486868804115,
          0.008621627785075468,
          0.006985964040440419,
          0.005903040721975679,
          0.005137319868879363,
          0.004576478153779207,
          0.004133721616982379,
          0.003780991266724763
         ]
        },
        {
         "line": {
          "color": "#FFA15A",
          "dash": "dashdot"
         },
         "marker": {
          "size": 10,
          "symbol": "triangle-up"
         },
         "mode": "lines+markers",
         "name": "SPR-cst-0.25",
         "type": "scatter",
         "x": [
          0.20853853225708008,
          69.35543370246887,
          116.63649272918701,
          179.7410020828247,
          228.9382040500641,
          291.6474003791809,
          353.07898473739624,
          404.9541504383087,
          474.2291235923767,
          520.4285016059875,
          586.8836054801941
         ],
         "y": [
          1,
          0.03263601354102078,
          0.016699398682071983,
          0.011240015994884807,
          0.008519188918295907,
          0.006899950098379764,
          0.005832304787031243,
          0.005085108137750812,
          0.004521969801803077,
          0.004091478932667119,
          0.0037382543657158156
         ]
        }
       ],
       "layout": {
        "font": {
         "size": 20
        },
        "legend": {
         "bgcolor": "rgba(255,255,255,0.8)",
         "title": {
          "text": "Methods"
         },
         "x": 0.99,
         "xanchor": "right",
         "y": 0.99,
         "yanchor": "top"
        },
        "margin": {
         "b": 20,
         "l": 20,
         "r": 20,
         "t": 20
        },
        "template": {
         "data": {
          "bar": [
           {
            "error_x": {
             "color": "#2a3f5f"
            },
            "error_y": {
             "color": "#2a3f5f"
            },
            "marker": {
             "line": {
              "color": "white",
              "width": 0.5
             },
             "pattern": {
              "fillmode": "overlay",
              "size": 10,
              "solidity": 0.2
             }
            },
            "type": "bar"
           }
          ],
          "barpolar": [
           {
            "marker": {
             "line": {
              "color": "white",
              "width": 0.5
             },
             "pattern": {
              "fillmode": "overlay",
              "size": 10,
              "solidity": 0.2
             }
            },
            "type": "barpolar"
           }
          ],
          "carpet": [
           {
            "aaxis": {
             "endlinecolor": "#2a3f5f",
             "gridcolor": "#C8D4E3",
             "linecolor": "#C8D4E3",
             "minorgridcolor": "#C8D4E3",
             "startlinecolor": "#2a3f5f"
            },
            "baxis": {
             "endlinecolor": "#2a3f5f",
             "gridcolor": "#C8D4E3",
             "linecolor": "#C8D4E3",
             "minorgridcolor": "#C8D4E3",
             "startlinecolor": "#2a3f5f"
            },
            "type": "carpet"
           }
          ],
          "choropleth": [
           {
            "colorbar": {
             "outlinewidth": 0,
             "ticks": ""
            },
            "type": "choropleth"
           }
          ],
          "contour": [
           {
            "colorbar": {
             "outlinewidth": 0,
             "ticks": ""
            },
            "colorscale": [
             [
              0,
              "#0d0887"
             ],
             [
              0.1111111111111111,
              "#46039f"
             ],
             [
              0.2222222222222222,
              "#7201a8"
             ],
             [
              0.3333333333333333,
              "#9c179e"
             ],
             [
              0.4444444444444444,
              "#bd3786"
             ],
             [
              0.5555555555555556,
              "#d8576b"
             ],
             [
              0.6666666666666666,
              "#ed7953"
             ],
             [
              0.7777777777777778,
              "#fb9f3a"
             ],
             [
              0.8888888888888888,
              "#fdca26"
             ],
             [
              1,
              "#f0f921"
             ]
            ],
            "type": "contour"
           }
          ],
          "contourcarpet": [
           {
            "colorbar": {
             "outlinewidth": 0,
             "ticks": ""
            },
            "type": "contourcarpet"
           }
          ],
          "heatmap": [
           {
            "colorbar": {
             "outlinewidth": 0,
             "ticks": ""
            },
            "colorscale": [
             [
              0,
              "#0d0887"
             ],
             [
              0.1111111111111111,
              "#46039f"
             ],
             [
              0.2222222222222222,
              "#7201a8"
             ],
             [
              0.3333333333333333,
              "#9c179e"
             ],
             [
              0.4444444444444444,
              "#bd3786"
             ],
             [
              0.5555555555555556,
              "#d8576b"
             ],
             [
              0.6666666666666666,
              "#ed7953"
             ],
             [
              0.7777777777777778,
              "#fb9f3a"
             ],
             [
              0.8888888888888888,
              "#fdca26"
             ],
             [
              1,
              "#f0f921"
             ]
            ],
            "type": "heatmap"
           }
          ],
          "heatmapgl": [
           {
            "colorbar": {
             "outlinewidth": 0,
             "ticks": ""
            },
            "colorscale": [
             [
              0,
              "#0d0887"
             ],
             [
              0.1111111111111111,
              "#46039f"
             ],
             [
              0.2222222222222222,
              "#7201a8"
             ],
             [
              0.3333333333333333,
              "#9c179e"
             ],
             [
              0.4444444444444444,
              "#bd3786"
             ],
             [
              0.5555555555555556,
              "#d8576b"
             ],
             [
              0.6666666666666666,
              "#ed7953"
             ],
             [
              0.7777777777777778,
              "#fb9f3a"
             ],
             [
              0.8888888888888888,
              "#fdca26"
             ],
             [
              1,
              "#f0f921"
             ]
            ],
            "type": "heatmapgl"
           }
          ],
          "histogram": [
           {
            "marker": {
             "pattern": {
              "fillmode": "overlay",
              "size": 10,
              "solidity": 0.2
             }
            },
            "type": "histogram"
           }
          ],
          "histogram2d": [
           {
            "colorbar": {
             "outlinewidth": 0,
             "ticks": ""
            },
            "colorscale": [
             [
              0,
              "#0d0887"
             ],
             [
              0.1111111111111111,
              "#46039f"
             ],
             [
              0.2222222222222222,
              "#7201a8"
             ],
             [
              0.3333333333333333,
              "#9c179e"
             ],
             [
              0.4444444444444444,
              "#bd3786"
             ],
             [
              0.5555555555555556,
              "#d8576b"
             ],
             [
              0.6666666666666666,
              "#ed7953"
             ],
             [
              0.7777777777777778,
              "#fb9f3a"
             ],
             [
              0.8888888888888888,
              "#fdca26"
             ],
             [
              1,
              "#f0f921"
             ]
            ],
            "type": "histogram2d"
           }
          ],
          "histogram2dcontour": [
           {
            "colorbar": {
             "outlinewidth": 0,
             "ticks": ""
            },
            "colorscale": [
             [
              0,
              "#0d0887"
             ],
             [
              0.1111111111111111,
              "#46039f"
             ],
             [
              0.2222222222222222,
              "#7201a8"
             ],
             [
              0.3333333333333333,
              "#9c179e"
             ],
             [
              0.4444444444444444,
              "#bd3786"
             ],
             [
              0.5555555555555556,
              "#d8576b"
             ],
             [
              0.6666666666666666,
              "#ed7953"
             ],
             [
              0.7777777777777778,
              "#fb9f3a"
             ],
             [
              0.8888888888888888,
              "#fdca26"
             ],
             [
              1,
              "#f0f921"
             ]
            ],
            "type": "histogram2dcontour"
           }
          ],
          "mesh3d": [
           {
            "colorbar": {
             "outlinewidth": 0,
             "ticks": ""
            },
            "type": "mesh3d"
           }
          ],
          "parcoords": [
           {
            "line": {
             "colorbar": {
              "outlinewidth": 0,
              "ticks": ""
             }
            },
            "type": "parcoords"
           }
          ],
          "pie": [
           {
            "automargin": true,
            "type": "pie"
           }
          ],
          "scatter": [
           {
            "marker": {
             "colorbar": {
              "outlinewidth": 0,
              "ticks": ""
             }
            },
            "type": "scatter"
           }
          ],
          "scatter3d": [
           {
            "line": {
             "colorbar": {
              "outlinewidth": 0,
              "ticks": ""
             }
            },
            "marker": {
             "colorbar": {
              "outlinewidth": 0,
              "ticks": ""
             }
            },
            "type": "scatter3d"
           }
          ],
          "scattercarpet": [
           {
            "marker": {
             "colorbar": {
              "outlinewidth": 0,
              "ticks": ""
             }
            },
            "type": "scattercarpet"
           }
          ],
          "scattergeo": [
           {
            "marker": {
             "colorbar": {
              "outlinewidth": 0,
              "ticks": ""
             }
            },
            "type": "scattergeo"
           }
          ],
          "scattergl": [
           {
            "marker": {
             "colorbar": {
              "outlinewidth": 0,
              "ticks": ""
             }
            },
            "type": "scattergl"
           }
          ],
          "scattermapbox": [
           {
            "marker": {
             "colorbar": {
              "outlinewidth": 0,
              "ticks": ""
             }
            },
            "type": "scattermapbox"
           }
          ],
          "scatterpolar": [
           {
            "marker": {
             "colorbar": {
              "outlinewidth": 0,
              "ticks": ""
             }
            },
            "type": "scatterpolar"
           }
          ],
          "scatterpolargl": [
           {
            "marker": {
             "colorbar": {
              "outlinewidth": 0,
              "ticks": ""
             }
            },
            "type": "scatterpolargl"
           }
          ],
          "scatterternary": [
           {
            "marker": {
             "colorbar": {
              "outlinewidth": 0,
              "ticks": ""
             }
            },
            "type": "scatterternary"
           }
          ],
          "surface": [
           {
            "colorbar": {
             "outlinewidth": 0,
             "ticks": ""
            },
            "colorscale": [
             [
              0,
              "#0d0887"
             ],
             [
              0.1111111111111111,
              "#46039f"
             ],
             [
              0.2222222222222222,
              "#7201a8"
             ],
             [
              0.3333333333333333,
              "#9c179e"
             ],
             [
              0.4444444444444444,
              "#bd3786"
             ],
             [
              0.5555555555555556,
              "#d8576b"
             ],
             [
              0.6666666666666666,
              "#ed7953"
             ],
             [
              0.7777777777777778,
              "#fb9f3a"
             ],
             [
              0.8888888888888888,
              "#fdca26"
             ],
             [
              1,
              "#f0f921"
             ]
            ],
            "type": "surface"
           }
          ],
          "table": [
           {
            "cells": {
             "fill": {
              "color": "#EBF0F8"
             },
             "line": {
              "color": "white"
             }
            },
            "header": {
             "fill": {
              "color": "#C8D4E3"
             },
             "line": {
              "color": "white"
             }
            },
            "type": "table"
           }
          ]
         },
         "layout": {
          "annotationdefaults": {
           "arrowcolor": "#2a3f5f",
           "arrowhead": 0,
           "arrowwidth": 1
          },
          "autotypenumbers": "strict",
          "coloraxis": {
           "colorbar": {
            "outlinewidth": 0,
            "ticks": ""
           }
          },
          "colorscale": {
           "diverging": [
            [
             0,
             "#8e0152"
            ],
            [
             0.1,
             "#c51b7d"
            ],
            [
             0.2,
             "#de77ae"
            ],
            [
             0.3,
             "#f1b6da"
            ],
            [
             0.4,
             "#fde0ef"
            ],
            [
             0.5,
             "#f7f7f7"
            ],
            [
             0.6,
             "#e6f5d0"
            ],
            [
             0.7,
             "#b8e186"
            ],
            [
             0.8,
             "#7fbc41"
            ],
            [
             0.9,
             "#4d9221"
            ],
            [
             1,
             "#276419"
            ]
           ],
           "sequential": [
            [
             0,
             "#0d0887"
            ],
            [
             0.1111111111111111,
             "#46039f"
            ],
            [
             0.2222222222222222,
             "#7201a8"
            ],
            [
             0.3333333333333333,
             "#9c179e"
            ],
            [
             0.4444444444444444,
             "#bd3786"
            ],
            [
             0.5555555555555556,
             "#d8576b"
            ],
            [
             0.6666666666666666,
             "#ed7953"
            ],
            [
             0.7777777777777778,
             "#fb9f3a"
            ],
            [
             0.8888888888888888,
             "#fdca26"
            ],
            [
             1,
             "#f0f921"
            ]
           ],
           "sequentialminus": [
            [
             0,
             "#0d0887"
            ],
            [
             0.1111111111111111,
             "#46039f"
            ],
            [
             0.2222222222222222,
             "#7201a8"
            ],
            [
             0.3333333333333333,
             "#9c179e"
            ],
            [
             0.4444444444444444,
             "#bd3786"
            ],
            [
             0.5555555555555556,
             "#d8576b"
            ],
            [
             0.6666666666666666,
             "#ed7953"
            ],
            [
             0.7777777777777778,
             "#fb9f3a"
            ],
            [
             0.8888888888888888,
             "#fdca26"
            ],
            [
             1,
             "#f0f921"
            ]
           ]
          },
          "colorway": [
           "#636efa",
           "#EF553B",
           "#00cc96",
           "#ab63fa",
           "#FFA15A",
           "#19d3f3",
           "#FF6692",
           "#B6E880",
           "#FF97FF",
           "#FECB52"
          ],
          "font": {
           "color": "#2a3f5f"
          },
          "geo": {
           "bgcolor": "white",
           "lakecolor": "white",
           "landcolor": "white",
           "showlakes": true,
           "showland": true,
           "subunitcolor": "#C8D4E3"
          },
          "hoverlabel": {
           "align": "left"
          },
          "hovermode": "closest",
          "mapbox": {
           "style": "light"
          },
          "paper_bgcolor": "white",
          "plot_bgcolor": "white",
          "polar": {
           "angularaxis": {
            "gridcolor": "#EBF0F8",
            "linecolor": "#EBF0F8",
            "ticks": ""
           },
           "bgcolor": "white",
           "radialaxis": {
            "gridcolor": "#EBF0F8",
            "linecolor": "#EBF0F8",
            "ticks": ""
           }
          },
          "scene": {
           "xaxis": {
            "backgroundcolor": "white",
            "gridcolor": "#DFE8F3",
            "gridwidth": 2,
            "linecolor": "#EBF0F8",
            "showbackground": true,
            "ticks": "",
            "zerolinecolor": "#EBF0F8"
           },
           "yaxis": {
            "backgroundcolor": "white",
            "gridcolor": "#DFE8F3",
            "gridwidth": 2,
            "linecolor": "#EBF0F8",
            "showbackground": true,
            "ticks": "",
            "zerolinecolor": "#EBF0F8"
           },
           "zaxis": {
            "backgroundcolor": "white",
            "gridcolor": "#DFE8F3",
            "gridwidth": 2,
            "linecolor": "#EBF0F8",
            "showbackground": true,
            "ticks": "",
            "zerolinecolor": "#EBF0F8"
           }
          },
          "shapedefaults": {
           "line": {
            "color": "#2a3f5f"
           }
          },
          "ternary": {
           "aaxis": {
            "gridcolor": "#DFE8F3",
            "linecolor": "#A2B1C6",
            "ticks": ""
           },
           "baxis": {
            "gridcolor": "#DFE8F3",
            "linecolor": "#A2B1C6",
            "ticks": ""
           },
           "bgcolor": "white",
           "caxis": {
            "gridcolor": "#DFE8F3",
            "linecolor": "#A2B1C6",
            "ticks": ""
           }
          },
          "title": {
           "x": 0.05
          },
          "xaxis": {
           "automargin": true,
           "gridcolor": "#EBF0F8",
           "linecolor": "#EBF0F8",
           "ticks": "",
           "title": {
            "standoff": 15
           },
           "zerolinecolor": "#EBF0F8",
           "zerolinewidth": 2
          },
          "yaxis": {
           "automargin": true,
           "gridcolor": "#EBF0F8",
           "linecolor": "#EBF0F8",
           "ticks": "",
           "title": {
            "standoff": 15
           },
           "zerolinecolor": "#EBF0F8",
           "zerolinewidth": 2
          }
         }
        },
        "xaxis": {
         "title": {
          "text": "Time (s)"
         }
        },
        "yaxis": {
         "title": {
          "text": "$\\|(H+V)u^k - b \\|_2 \\ / \\ \\|(H+V)u^0 - b \\|_2$"
         },
         "type": "log"
        }
       }
      },
      "text/html": [
       "<div>                            <div id=\"8a3ae203-6a65-4e32-bb5a-6a073f503c91\" class=\"plotly-graph-div\" style=\"height:525px; width:100%;\"></div>            <script type=\"text/javascript\">                require([\"plotly\"], function(Plotly) {                    window.PLOTLYENV=window.PLOTLYENV || {};                                    if (document.getElementById(\"8a3ae203-6a65-4e32-bb5a-6a073f503c91\")) {                    Plotly.newPlot(                        \"8a3ae203-6a65-4e32-bb5a-6a073f503c91\",                        [{\"line\":{\"color\":\"#636EFA\",\"dash\":\"solid\"},\"marker\":{\"size\":10,\"symbol\":\"circle\"},\"mode\":\"lines+markers\",\"name\":\"PR-pr_shifts\",\"type\":\"scatter\",\"x\":[110.58188962936401,121.20984935760498,132.19085264205933,143.46513867378235,154.79527020454407,166.32257676124573,180.15512704849243,193.9432065486908,207.71113276481628,229.03536438941956,245.59436535835266,256.65081334114075,268.04134011268616,280.6645827293396,294.527713060379,308.3512806892395],\"y\":[1.0,0.10801763868641259,0.04200998089008936,0.01929338264781965,0.009682622094779283,0.005208585821255697,0.0030542165889935902,0.001969392366665262,0.001463693656837957,0.0012004321350031683,0.0009731344022968592,0.0007039447630401572,0.00040785690379579857,0.00019720931045231105,0.00015388398281593148,0.0001532158775593936]},{\"line\":{\"color\":\"#EF553B\",\"dash\":\"dot\"},\"marker\":{\"size\":10,\"symbol\":\"square\"},\"mode\":\"lines+markers\",\"name\":\"PR-w_shifts\",\"type\":\"scatter\",\"x\":[110.58195757865906,133.38460302352905,148.9824824333191,160.1458399295807,171.5192413330078,184.25498151779175,198.1400752067566,211.99324464797974,234.8786063194275,252.01120495796204,263.11337661743164,274.469131231308,287.16259932518005,301.10400581359863,315.12474393844604,338.080561876297],\"y\":[1.0,0.1455836775771908,0.05482149605092072,0.024637253853607783,0.011900010630986706,0.006080052944208312,0.0033835533497219936,0.002072912857424532,0.0014810534637732411,0.0011916410228991691,0.0009450288130905895,0.0006462559805050285,0.0003172705787480822,7.958567631685483e-05,1.9174814409192757e-05,1.8920159921121998e-05]},{\"line\":{\"color\":\"#00CC96\",\"dash\":\"dash\"},\"marker\":{\"size\":10,\"symbol\":\"star\"},\"mode\":\"lines+markers\",\"name\":\"PR-cst\",\"type\":\"scatter\",\"x\":[0.20853853225708008,51.68785500526428,120.28821587562561,169.32296895980835,236.64840006828308,288.6047716140747,354.5635235309601,411.0627245903015,471.4643657207489,537.2849299907684,590.6365444660187],\"y\":[1.0,0.03955878490305107,0.01989962451133436,0.013294997676005803,0.010001118365721874,0.0080429713298056,0.006756201043569107,0.005851843482030551,0.005183651408816224,0.004670108549516326,0.004262730247416638]},{\"line\":{\"color\":\"#AB63FA\",\"dash\":\"longdash\"},\"marker\":{\"size\":10,\"symbol\":\"x\"},\"mode\":\"lines+markers\",\"name\":\"SPR-cst-0.1\",\"type\":\"scatter\",\"x\":[0.20853853225708008,28.181654691696167,67.6235282421112,92.02970218658447,119.90567255020142,159.52264213562012,186.8069212436676,212.58240604400635,245.09942531585693,284.75251722335815,309.0359613895416],\"y\":[1.0,0.03237179010809018,0.016618672233250375,0.011336486868804115,0.008621627785075468,0.006985964040440419,0.005903040721975679,0.005137319868879363,0.004576478153779207,0.004133721616982379,0.003780991266724763]},{\"line\":{\"color\":\"#FFA15A\",\"dash\":\"dashdot\"},\"marker\":{\"size\":10,\"symbol\":\"triangle-up\"},\"mode\":\"lines+markers\",\"name\":\"SPR-cst-0.25\",\"type\":\"scatter\",\"x\":[0.20853853225708008,69.35543370246887,116.63649272918701,179.7410020828247,228.9382040500641,291.6474003791809,353.07898473739624,404.9541504383087,474.2291235923767,520.4285016059875,586.8836054801941],\"y\":[1.0,0.03263601354102078,0.016699398682071983,0.011240015994884807,0.008519188918295907,0.006899950098379764,0.005832304787031243,0.005085108137750812,0.004521969801803077,0.004091478932667119,0.0037382543657158156]}],                        {\"font\":{\"size\":20},\"legend\":{\"bgcolor\":\"rgba(255,255,255,0.8)\",\"title\":{\"text\":\"Methods\"},\"x\":0.99,\"xanchor\":\"right\",\"y\":0.99,\"yanchor\":\"top\"},\"margin\":{\"b\":20,\"l\":20,\"r\":20,\"t\":20},\"template\":{\"data\":{\"bar\":[{\"error_x\":{\"color\":\"#2a3f5f\"},\"error_y\":{\"color\":\"#2a3f5f\"},\"marker\":{\"line\":{\"color\":\"white\",\"width\":0.5},\"pattern\":{\"fillmode\":\"overlay\",\"size\":10,\"solidity\":0.2}},\"type\":\"bar\"}],\"barpolar\":[{\"marker\":{\"line\":{\"color\":\"white\",\"width\":0.5},\"pattern\":{\"fillmode\":\"overlay\",\"size\":10,\"solidity\":0.2}},\"type\":\"barpolar\"}],\"carpet\":[{\"aaxis\":{\"endlinecolor\":\"#2a3f5f\",\"gridcolor\":\"#C8D4E3\",\"linecolor\":\"#C8D4E3\",\"minorgridcolor\":\"#C8D4E3\",\"startlinecolor\":\"#2a3f5f\"},\"baxis\":{\"endlinecolor\":\"#2a3f5f\",\"gridcolor\":\"#C8D4E3\",\"linecolor\":\"#C8D4E3\",\"minorgridcolor\":\"#C8D4E3\",\"startlinecolor\":\"#2a3f5f\"},\"type\":\"carpet\"}],\"choropleth\":[{\"colorbar\":{\"outlinewidth\":0,\"ticks\":\"\"},\"type\":\"choropleth\"}],\"contour\":[{\"colorbar\":{\"outlinewidth\":0,\"ticks\":\"\"},\"colorscale\":[[0.0,\"#0d0887\"],[0.1111111111111111,\"#46039f\"],[0.2222222222222222,\"#7201a8\"],[0.3333333333333333,\"#9c179e\"],[0.4444444444444444,\"#bd3786\"],[0.5555555555555556,\"#d8576b\"],[0.6666666666666666,\"#ed7953\"],[0.7777777777777778,\"#fb9f3a\"],[0.8888888888888888,\"#fdca26\"],[1.0,\"#f0f921\"]],\"type\":\"contour\"}],\"contourcarpet\":[{\"colorbar\":{\"outlinewidth\":0,\"ticks\":\"\"},\"type\":\"contourcarpet\"}],\"heatmap\":[{\"colorbar\":{\"outlinewidth\":0,\"ticks\":\"\"},\"colorscale\":[[0.0,\"#0d0887\"],[0.1111111111111111,\"#46039f\"],[0.2222222222222222,\"#7201a8\"],[0.3333333333333333,\"#9c179e\"],[0.4444444444444444,\"#bd3786\"],[0.5555555555555556,\"#d8576b\"],[0.6666666666666666,\"#ed7953\"],[0.7777777777777778,\"#fb9f3a\"],[0.8888888888888888,\"#fdca26\"],[1.0,\"#f0f921\"]],\"type\":\"heatmap\"}],\"heatmapgl\":[{\"colorbar\":{\"outlinewidth\":0,\"ticks\":\"\"},\"colorscale\":[[0.0,\"#0d0887\"],[0.1111111111111111,\"#46039f\"],[0.2222222222222222,\"#7201a8\"],[0.3333333333333333,\"#9c179e\"],[0.4444444444444444,\"#bd3786\"],[0.5555555555555556,\"#d8576b\"],[0.6666666666666666,\"#ed7953\"],[0.7777777777777778,\"#fb9f3a\"],[0.8888888888888888,\"#fdca26\"],[1.0,\"#f0f921\"]],\"type\":\"heatmapgl\"}],\"histogram\":[{\"marker\":{\"pattern\":{\"fillmode\":\"overlay\",\"size\":10,\"solidity\":0.2}},\"type\":\"histogram\"}],\"histogram2d\":[{\"colorbar\":{\"outlinewidth\":0,\"ticks\":\"\"},\"colorscale\":[[0.0,\"#0d0887\"],[0.1111111111111111,\"#46039f\"],[0.2222222222222222,\"#7201a8\"],[0.3333333333333333,\"#9c179e\"],[0.4444444444444444,\"#bd3786\"],[0.5555555555555556,\"#d8576b\"],[0.6666666666666666,\"#ed7953\"],[0.7777777777777778,\"#fb9f3a\"],[0.8888888888888888,\"#fdca26\"],[1.0,\"#f0f921\"]],\"type\":\"histogram2d\"}],\"histogram2dcontour\":[{\"colorbar\":{\"outlinewidth\":0,\"ticks\":\"\"},\"colorscale\":[[0.0,\"#0d0887\"],[0.1111111111111111,\"#46039f\"],[0.2222222222222222,\"#7201a8\"],[0.3333333333333333,\"#9c179e\"],[0.4444444444444444,\"#bd3786\"],[0.5555555555555556,\"#d8576b\"],[0.6666666666666666,\"#ed7953\"],[0.7777777777777778,\"#fb9f3a\"],[0.8888888888888888,\"#fdca26\"],[1.0,\"#f0f921\"]],\"type\":\"histogram2dcontour\"}],\"mesh3d\":[{\"colorbar\":{\"outlinewidth\":0,\"ticks\":\"\"},\"type\":\"mesh3d\"}],\"parcoords\":[{\"line\":{\"colorbar\":{\"outlinewidth\":0,\"ticks\":\"\"}},\"type\":\"parcoords\"}],\"pie\":[{\"automargin\":true,\"type\":\"pie\"}],\"scatter\":[{\"marker\":{\"colorbar\":{\"outlinewidth\":0,\"ticks\":\"\"}},\"type\":\"scatter\"}],\"scatter3d\":[{\"line\":{\"colorbar\":{\"outlinewidth\":0,\"ticks\":\"\"}},\"marker\":{\"colorbar\":{\"outlinewidth\":0,\"ticks\":\"\"}},\"type\":\"scatter3d\"}],\"scattercarpet\":[{\"marker\":{\"colorbar\":{\"outlinewidth\":0,\"ticks\":\"\"}},\"type\":\"scattercarpet\"}],\"scattergeo\":[{\"marker\":{\"colorbar\":{\"outlinewidth\":0,\"ticks\":\"\"}},\"type\":\"scattergeo\"}],\"scattergl\":[{\"marker\":{\"colorbar\":{\"outlinewidth\":0,\"ticks\":\"\"}},\"type\":\"scattergl\"}],\"scattermapbox\":[{\"marker\":{\"colorbar\":{\"outlinewidth\":0,\"ticks\":\"\"}},\"type\":\"scattermapbox\"}],\"scatterpolar\":[{\"marker\":{\"colorbar\":{\"outlinewidth\":0,\"ticks\":\"\"}},\"type\":\"scatterpolar\"}],\"scatterpolargl\":[{\"marker\":{\"colorbar\":{\"outlinewidth\":0,\"ticks\":\"\"}},\"type\":\"scatterpolargl\"}],\"scatterternary\":[{\"marker\":{\"colorbar\":{\"outlinewidth\":0,\"ticks\":\"\"}},\"type\":\"scatterternary\"}],\"surface\":[{\"colorbar\":{\"outlinewidth\":0,\"ticks\":\"\"},\"colorscale\":[[0.0,\"#0d0887\"],[0.1111111111111111,\"#46039f\"],[0.2222222222222222,\"#7201a8\"],[0.3333333333333333,\"#9c179e\"],[0.4444444444444444,\"#bd3786\"],[0.5555555555555556,\"#d8576b\"],[0.6666666666666666,\"#ed7953\"],[0.7777777777777778,\"#fb9f3a\"],[0.8888888888888888,\"#fdca26\"],[1.0,\"#f0f921\"]],\"type\":\"surface\"}],\"table\":[{\"cells\":{\"fill\":{\"color\":\"#EBF0F8\"},\"line\":{\"color\":\"white\"}},\"header\":{\"fill\":{\"color\":\"#C8D4E3\"},\"line\":{\"color\":\"white\"}},\"type\":\"table\"}]},\"layout\":{\"annotationdefaults\":{\"arrowcolor\":\"#2a3f5f\",\"arrowhead\":0,\"arrowwidth\":1},\"autotypenumbers\":\"strict\",\"coloraxis\":{\"colorbar\":{\"outlinewidth\":0,\"ticks\":\"\"}},\"colorscale\":{\"diverging\":[[0,\"#8e0152\"],[0.1,\"#c51b7d\"],[0.2,\"#de77ae\"],[0.3,\"#f1b6da\"],[0.4,\"#fde0ef\"],[0.5,\"#f7f7f7\"],[0.6,\"#e6f5d0\"],[0.7,\"#b8e186\"],[0.8,\"#7fbc41\"],[0.9,\"#4d9221\"],[1,\"#276419\"]],\"sequential\":[[0.0,\"#0d0887\"],[0.1111111111111111,\"#46039f\"],[0.2222222222222222,\"#7201a8\"],[0.3333333333333333,\"#9c179e\"],[0.4444444444444444,\"#bd3786\"],[0.5555555555555556,\"#d8576b\"],[0.6666666666666666,\"#ed7953\"],[0.7777777777777778,\"#fb9f3a\"],[0.8888888888888888,\"#fdca26\"],[1.0,\"#f0f921\"]],\"sequentialminus\":[[0.0,\"#0d0887\"],[0.1111111111111111,\"#46039f\"],[0.2222222222222222,\"#7201a8\"],[0.3333333333333333,\"#9c179e\"],[0.4444444444444444,\"#bd3786\"],[0.5555555555555556,\"#d8576b\"],[0.6666666666666666,\"#ed7953\"],[0.7777777777777778,\"#fb9f3a\"],[0.8888888888888888,\"#fdca26\"],[1.0,\"#f0f921\"]]},\"colorway\":[\"#636efa\",\"#EF553B\",\"#00cc96\",\"#ab63fa\",\"#FFA15A\",\"#19d3f3\",\"#FF6692\",\"#B6E880\",\"#FF97FF\",\"#FECB52\"],\"font\":{\"color\":\"#2a3f5f\"},\"geo\":{\"bgcolor\":\"white\",\"lakecolor\":\"white\",\"landcolor\":\"white\",\"showlakes\":true,\"showland\":true,\"subunitcolor\":\"#C8D4E3\"},\"hoverlabel\":{\"align\":\"left\"},\"hovermode\":\"closest\",\"mapbox\":{\"style\":\"light\"},\"paper_bgcolor\":\"white\",\"plot_bgcolor\":\"white\",\"polar\":{\"angularaxis\":{\"gridcolor\":\"#EBF0F8\",\"linecolor\":\"#EBF0F8\",\"ticks\":\"\"},\"bgcolor\":\"white\",\"radialaxis\":{\"gridcolor\":\"#EBF0F8\",\"linecolor\":\"#EBF0F8\",\"ticks\":\"\"}},\"scene\":{\"xaxis\":{\"backgroundcolor\":\"white\",\"gridcolor\":\"#DFE8F3\",\"gridwidth\":2,\"linecolor\":\"#EBF0F8\",\"showbackground\":true,\"ticks\":\"\",\"zerolinecolor\":\"#EBF0F8\"},\"yaxis\":{\"backgroundcolor\":\"white\",\"gridcolor\":\"#DFE8F3\",\"gridwidth\":2,\"linecolor\":\"#EBF0F8\",\"showbackground\":true,\"ticks\":\"\",\"zerolinecolor\":\"#EBF0F8\"},\"zaxis\":{\"backgroundcolor\":\"white\",\"gridcolor\":\"#DFE8F3\",\"gridwidth\":2,\"linecolor\":\"#EBF0F8\",\"showbackground\":true,\"ticks\":\"\",\"zerolinecolor\":\"#EBF0F8\"}},\"shapedefaults\":{\"line\":{\"color\":\"#2a3f5f\"}},\"ternary\":{\"aaxis\":{\"gridcolor\":\"#DFE8F3\",\"linecolor\":\"#A2B1C6\",\"ticks\":\"\"},\"baxis\":{\"gridcolor\":\"#DFE8F3\",\"linecolor\":\"#A2B1C6\",\"ticks\":\"\"},\"bgcolor\":\"white\",\"caxis\":{\"gridcolor\":\"#DFE8F3\",\"linecolor\":\"#A2B1C6\",\"ticks\":\"\"}},\"title\":{\"x\":0.05},\"xaxis\":{\"automargin\":true,\"gridcolor\":\"#EBF0F8\",\"linecolor\":\"#EBF0F8\",\"ticks\":\"\",\"title\":{\"standoff\":15},\"zerolinecolor\":\"#EBF0F8\",\"zerolinewidth\":2},\"yaxis\":{\"automargin\":true,\"gridcolor\":\"#EBF0F8\",\"linecolor\":\"#EBF0F8\",\"ticks\":\"\",\"title\":{\"standoff\":15},\"zerolinecolor\":\"#EBF0F8\",\"zerolinewidth\":2}}},\"xaxis\":{\"title\":{\"text\":\"Time (s)\"}},\"yaxis\":{\"title\":{\"text\":\"$\\\\|(H+V)u^k - b \\\\|_2 \\\\ / \\\\ \\\\|(H+V)u^0 - b \\\\|_2$\"},\"type\":\"log\"}},                        {\"responsive\": true}                    ).then(function(){\n",
       "                            \n",
       "var gd = document.getElementById('8a3ae203-6a65-4e32-bb5a-6a073f503c91');\n",
       "var x = new MutationObserver(function (mutations, observer) {{\n",
       "        var display = window.getComputedStyle(gd).display;\n",
       "        if (!display || display === 'none') {{\n",
       "            console.log([gd, 'removed!']);\n",
       "            Plotly.purge(gd);\n",
       "            observer.disconnect();\n",
       "        }}\n",
       "}});\n",
       "\n",
       "// Listen for the removal of the full notebook cells\n",
       "var notebookContainer = gd.closest('#notebook-container');\n",
       "if (notebookContainer) {{\n",
       "    x.observe(notebookContainer, {childList: true});\n",
       "}}\n",
       "\n",
       "// Listen for the clearing of the current output cell\n",
       "var outputEl = gd.closest('.output');\n",
       "if (outputEl) {{\n",
       "    x.observe(outputEl, {childList: true});\n",
       "}}\n",
       "\n",
       "                        })                };                });            </script>        </div>"
      ]
     },
     "metadata": {},
     "output_type": "display_data"
    },
    {
     "data": {
      "application/vnd.plotly.v1+json": {
       "config": {
        "plotlyServerURL": "https://plot.ly"
       },
       "data": [
        {
         "line": {
          "color": "#636EFA",
          "dash": "solid"
         },
         "marker": {
          "size": 10,
          "symbol": "circle"
         },
         "mode": "lines+markers",
         "name": "PR-pr_shifts",
         "type": "scatter",
         "x": [
          110.58188962936401,
          121.20984935760498,
          132.19085264205933,
          143.46513867378235,
          154.79527020454407,
          166.32257676124573,
          180.15512704849243,
          193.9432065486908,
          207.71113276481628,
          229.03536438941956,
          245.59436535835266,
          256.65081334114075,
          268.04134011268616,
          280.6645827293396,
          294.527713060379,
          308.3512806892395
         ],
         "y": [
          1,
          0.9801801669402826,
          0.9721041781011833,
          0.9645931651427846,
          0.9558337922590013,
          0.9439363633861483,
          0.9260440647486204,
          0.8974361490213194,
          0.8501693786847389,
          0.7720637993336437,
          0.6482892293498617,
          0.47072760542542547,
          0.2605316393963115,
          0.08566703977009711,
          0.009256132765404514,
          7.088512774863282e-05
         ]
        },
        {
         "line": {
          "color": "#EF553B",
          "dash": "dot"
         },
         "marker": {
          "size": 10,
          "symbol": "square"
         },
         "mode": "lines+markers",
         "name": "PR-w_shifts",
         "type": "scatter",
         "x": [
          110.58195757865906,
          133.38460302352905,
          148.9824824333191,
          160.1458399295807,
          171.5192413330078,
          184.25498151779175,
          198.1400752067566,
          211.99324464797974,
          234.8786063194275,
          252.01120495796204,
          263.11337661743164,
          274.469131231308,
          287.16259932518005,
          301.10400581359863,
          315.12474393844604,
          338.080561876297
         ],
         "y": [
          1,
          0.9822827500552278,
          0.9744235291927745,
          0.9671298132135484,
          0.9587786091003331,
          0.9475318442659921,
          0.9304498568053938,
          0.9024683250661582,
          0.85467876207925,
          0.7727318275055226,
          0.6385763039980348,
          0.4432729858836807,
          0.21859236798438036,
          0.053493462685546125,
          0.0021186294313509917,
          2.81280232060637e-06
         ]
        },
        {
         "line": {
          "color": "#00CC96",
          "dash": "dash"
         },
         "marker": {
          "size": 10,
          "symbol": "star"
         },
         "mode": "lines+markers",
         "name": "PR-cst",
         "type": "scatter",
         "x": [
          0.20853853225708008,
          51.68785500526428,
          120.28821587562561,
          169.32296895980835,
          236.64840006828308,
          288.6047716140747,
          354.5635235309601,
          411.0627245903015,
          471.4643657207489,
          537.2849299907684,
          590.6365444660187
         ],
         "y": [
          1,
          0.9714774091902948,
          0.9648249818000361,
          0.9601142806261315,
          0.9562004289975085,
          0.9527240631500895,
          0.9495257706741179,
          0.9465211696999366,
          0.9436602733826626,
          0.9409109891911729,
          0.9382514116881083
         ]
        },
        {
         "line": {
          "color": "#AB63FA",
          "dash": "longdash"
         },
         "marker": {
          "size": 10,
          "symbol": "x"
         },
         "mode": "lines+markers",
         "name": "SPR-cst-0.1",
         "type": "scatter",
         "x": [
          0.20853853225708008,
          28.181654691696167,
          67.6235282421112,
          92.02970218658447,
          119.90567255020142,
          159.52264213562012,
          186.8069212436676,
          212.58240604400635,
          245.09942531585693,
          284.75251722335815,
          309.0359613895416
         ],
         "y": [
          1,
          0.9749157143916907,
          0.9680086528697264,
          0.9631040285058303,
          0.9589020905859679,
          0.9551135755410238,
          0.9515602900571473,
          0.9482361158288357,
          0.9450148470287499,
          0.9419009542643567,
          0.938894731942344
         ]
        },
        {
         "line": {
          "color": "#FFA15A",
          "dash": "dashdot"
         },
         "marker": {
          "size": 10,
          "symbol": "triangle-up"
         },
         "mode": "lines+markers",
         "name": "SPR-cst-0.25",
         "type": "scatter",
         "x": [
          0.20853853225708008,
          69.35543370246887,
          116.63649272918701,
          179.7410020828247,
          228.9382040500641,
          291.6474003791809,
          353.07898473739624,
          404.9541504383087,
          474.2291235923767,
          520.4285016059875,
          586.8836054801941
         ],
         "y": [
          1,
          0.9746191282795624,
          0.9676716198532566,
          0.9625690306650214,
          0.9583047983854703,
          0.9545135647457174,
          0.9509930901719122,
          0.9476377873444369,
          0.9444044166205134,
          0.9412786766663085,
          0.9383042225263434
         ]
        }
       ],
       "layout": {
        "font": {
         "size": 20
        },
        "legend": {
         "bgcolor": "rgba(255,255,255,0.8)",
         "title": {
          "text": "Methods"
         },
         "x": 0.99,
         "xanchor": "right",
         "y": 0.99,
         "yanchor": "top"
        },
        "margin": {
         "b": 20,
         "l": 20,
         "r": 20,
         "t": 20
        },
        "template": {
         "data": {
          "bar": [
           {
            "error_x": {
             "color": "#2a3f5f"
            },
            "error_y": {
             "color": "#2a3f5f"
            },
            "marker": {
             "line": {
              "color": "white",
              "width": 0.5
             },
             "pattern": {
              "fillmode": "overlay",
              "size": 10,
              "solidity": 0.2
             }
            },
            "type": "bar"
           }
          ],
          "barpolar": [
           {
            "marker": {
             "line": {
              "color": "white",
              "width": 0.5
             },
             "pattern": {
              "fillmode": "overlay",
              "size": 10,
              "solidity": 0.2
             }
            },
            "type": "barpolar"
           }
          ],
          "carpet": [
           {
            "aaxis": {
             "endlinecolor": "#2a3f5f",
             "gridcolor": "#C8D4E3",
             "linecolor": "#C8D4E3",
             "minorgridcolor": "#C8D4E3",
             "startlinecolor": "#2a3f5f"
            },
            "baxis": {
             "endlinecolor": "#2a3f5f",
             "gridcolor": "#C8D4E3",
             "linecolor": "#C8D4E3",
             "minorgridcolor": "#C8D4E3",
             "startlinecolor": "#2a3f5f"
            },
            "type": "carpet"
           }
          ],
          "choropleth": [
           {
            "colorbar": {
             "outlinewidth": 0,
             "ticks": ""
            },
            "type": "choropleth"
           }
          ],
          "contour": [
           {
            "colorbar": {
             "outlinewidth": 0,
             "ticks": ""
            },
            "colorscale": [
             [
              0,
              "#0d0887"
             ],
             [
              0.1111111111111111,
              "#46039f"
             ],
             [
              0.2222222222222222,
              "#7201a8"
             ],
             [
              0.3333333333333333,
              "#9c179e"
             ],
             [
              0.4444444444444444,
              "#bd3786"
             ],
             [
              0.5555555555555556,
              "#d8576b"
             ],
             [
              0.6666666666666666,
              "#ed7953"
             ],
             [
              0.7777777777777778,
              "#fb9f3a"
             ],
             [
              0.8888888888888888,
              "#fdca26"
             ],
             [
              1,
              "#f0f921"
             ]
            ],
            "type": "contour"
           }
          ],
          "contourcarpet": [
           {
            "colorbar": {
             "outlinewidth": 0,
             "ticks": ""
            },
            "type": "contourcarpet"
           }
          ],
          "heatmap": [
           {
            "colorbar": {
             "outlinewidth": 0,
             "ticks": ""
            },
            "colorscale": [
             [
              0,
              "#0d0887"
             ],
             [
              0.1111111111111111,
              "#46039f"
             ],
             [
              0.2222222222222222,
              "#7201a8"
             ],
             [
              0.3333333333333333,
              "#9c179e"
             ],
             [
              0.4444444444444444,
              "#bd3786"
             ],
             [
              0.5555555555555556,
              "#d8576b"
             ],
             [
              0.6666666666666666,
              "#ed7953"
             ],
             [
              0.7777777777777778,
              "#fb9f3a"
             ],
             [
              0.8888888888888888,
              "#fdca26"
             ],
             [
              1,
              "#f0f921"
             ]
            ],
            "type": "heatmap"
           }
          ],
          "heatmapgl": [
           {
            "colorbar": {
             "outlinewidth": 0,
             "ticks": ""
            },
            "colorscale": [
             [
              0,
              "#0d0887"
             ],
             [
              0.1111111111111111,
              "#46039f"
             ],
             [
              0.2222222222222222,
              "#7201a8"
             ],
             [
              0.3333333333333333,
              "#9c179e"
             ],
             [
              0.4444444444444444,
              "#bd3786"
             ],
             [
              0.5555555555555556,
              "#d8576b"
             ],
             [
              0.6666666666666666,
              "#ed7953"
             ],
             [
              0.7777777777777778,
              "#fb9f3a"
             ],
             [
              0.8888888888888888,
              "#fdca26"
             ],
             [
              1,
              "#f0f921"
             ]
            ],
            "type": "heatmapgl"
           }
          ],
          "histogram": [
           {
            "marker": {
             "pattern": {
              "fillmode": "overlay",
              "size": 10,
              "solidity": 0.2
             }
            },
            "type": "histogram"
           }
          ],
          "histogram2d": [
           {
            "colorbar": {
             "outlinewidth": 0,
             "ticks": ""
            },
            "colorscale": [
             [
              0,
              "#0d0887"
             ],
             [
              0.1111111111111111,
              "#46039f"
             ],
             [
              0.2222222222222222,
              "#7201a8"
             ],
             [
              0.3333333333333333,
              "#9c179e"
             ],
             [
              0.4444444444444444,
              "#bd3786"
             ],
             [
              0.5555555555555556,
              "#d8576b"
             ],
             [
              0.6666666666666666,
              "#ed7953"
             ],
             [
              0.7777777777777778,
              "#fb9f3a"
             ],
             [
              0.8888888888888888,
              "#fdca26"
             ],
             [
              1,
              "#f0f921"
             ]
            ],
            "type": "histogram2d"
           }
          ],
          "histogram2dcontour": [
           {
            "colorbar": {
             "outlinewidth": 0,
             "ticks": ""
            },
            "colorscale": [
             [
              0,
              "#0d0887"
             ],
             [
              0.1111111111111111,
              "#46039f"
             ],
             [
              0.2222222222222222,
              "#7201a8"
             ],
             [
              0.3333333333333333,
              "#9c179e"
             ],
             [
              0.4444444444444444,
              "#bd3786"
             ],
             [
              0.5555555555555556,
              "#d8576b"
             ],
             [
              0.6666666666666666,
              "#ed7953"
             ],
             [
              0.7777777777777778,
              "#fb9f3a"
             ],
             [
              0.8888888888888888,
              "#fdca26"
             ],
             [
              1,
              "#f0f921"
             ]
            ],
            "type": "histogram2dcontour"
           }
          ],
          "mesh3d": [
           {
            "colorbar": {
             "outlinewidth": 0,
             "ticks": ""
            },
            "type": "mesh3d"
           }
          ],
          "parcoords": [
           {
            "line": {
             "colorbar": {
              "outlinewidth": 0,
              "ticks": ""
             }
            },
            "type": "parcoords"
           }
          ],
          "pie": [
           {
            "automargin": true,
            "type": "pie"
           }
          ],
          "scatter": [
           {
            "marker": {
             "colorbar": {
              "outlinewidth": 0,
              "ticks": ""
             }
            },
            "type": "scatter"
           }
          ],
          "scatter3d": [
           {
            "line": {
             "colorbar": {
              "outlinewidth": 0,
              "ticks": ""
             }
            },
            "marker": {
             "colorbar": {
              "outlinewidth": 0,
              "ticks": ""
             }
            },
            "type": "scatter3d"
           }
          ],
          "scattercarpet": [
           {
            "marker": {
             "colorbar": {
              "outlinewidth": 0,
              "ticks": ""
             }
            },
            "type": "scattercarpet"
           }
          ],
          "scattergeo": [
           {
            "marker": {
             "colorbar": {
              "outlinewidth": 0,
              "ticks": ""
             }
            },
            "type": "scattergeo"
           }
          ],
          "scattergl": [
           {
            "marker": {
             "colorbar": {
              "outlinewidth": 0,
              "ticks": ""
             }
            },
            "type": "scattergl"
           }
          ],
          "scattermapbox": [
           {
            "marker": {
             "colorbar": {
              "outlinewidth": 0,
              "ticks": ""
             }
            },
            "type": "scattermapbox"
           }
          ],
          "scatterpolar": [
           {
            "marker": {
             "colorbar": {
              "outlinewidth": 0,
              "ticks": ""
             }
            },
            "type": "scatterpolar"
           }
          ],
          "scatterpolargl": [
           {
            "marker": {
             "colorbar": {
              "outlinewidth": 0,
              "ticks": ""
             }
            },
            "type": "scatterpolargl"
           }
          ],
          "scatterternary": [
           {
            "marker": {
             "colorbar": {
              "outlinewidth": 0,
              "ticks": ""
             }
            },
            "type": "scatterternary"
           }
          ],
          "surface": [
           {
            "colorbar": {
             "outlinewidth": 0,
             "ticks": ""
            },
            "colorscale": [
             [
              0,
              "#0d0887"
             ],
             [
              0.1111111111111111,
              "#46039f"
             ],
             [
              0.2222222222222222,
              "#7201a8"
             ],
             [
              0.3333333333333333,
              "#9c179e"
             ],
             [
              0.4444444444444444,
              "#bd3786"
             ],
             [
              0.5555555555555556,
              "#d8576b"
             ],
             [
              0.6666666666666666,
              "#ed7953"
             ],
             [
              0.7777777777777778,
              "#fb9f3a"
             ],
             [
              0.8888888888888888,
              "#fdca26"
             ],
             [
              1,
              "#f0f921"
             ]
            ],
            "type": "surface"
           }
          ],
          "table": [
           {
            "cells": {
             "fill": {
              "color": "#EBF0F8"
             },
             "line": {
              "color": "white"
             }
            },
            "header": {
             "fill": {
              "color": "#C8D4E3"
             },
             "line": {
              "color": "white"
             }
            },
            "type": "table"
           }
          ]
         },
         "layout": {
          "annotationdefaults": {
           "arrowcolor": "#2a3f5f",
           "arrowhead": 0,
           "arrowwidth": 1
          },
          "autotypenumbers": "strict",
          "coloraxis": {
           "colorbar": {
            "outlinewidth": 0,
            "ticks": ""
           }
          },
          "colorscale": {
           "diverging": [
            [
             0,
             "#8e0152"
            ],
            [
             0.1,
             "#c51b7d"
            ],
            [
             0.2,
             "#de77ae"
            ],
            [
             0.3,
             "#f1b6da"
            ],
            [
             0.4,
             "#fde0ef"
            ],
            [
             0.5,
             "#f7f7f7"
            ],
            [
             0.6,
             "#e6f5d0"
            ],
            [
             0.7,
             "#b8e186"
            ],
            [
             0.8,
             "#7fbc41"
            ],
            [
             0.9,
             "#4d9221"
            ],
            [
             1,
             "#276419"
            ]
           ],
           "sequential": [
            [
             0,
             "#0d0887"
            ],
            [
             0.1111111111111111,
             "#46039f"
            ],
            [
             0.2222222222222222,
             "#7201a8"
            ],
            [
             0.3333333333333333,
             "#9c179e"
            ],
            [
             0.4444444444444444,
             "#bd3786"
            ],
            [
             0.5555555555555556,
             "#d8576b"
            ],
            [
             0.6666666666666666,
             "#ed7953"
            ],
            [
             0.7777777777777778,
             "#fb9f3a"
            ],
            [
             0.8888888888888888,
             "#fdca26"
            ],
            [
             1,
             "#f0f921"
            ]
           ],
           "sequentialminus": [
            [
             0,
             "#0d0887"
            ],
            [
             0.1111111111111111,
             "#46039f"
            ],
            [
             0.2222222222222222,
             "#7201a8"
            ],
            [
             0.3333333333333333,
             "#9c179e"
            ],
            [
             0.4444444444444444,
             "#bd3786"
            ],
            [
             0.5555555555555556,
             "#d8576b"
            ],
            [
             0.6666666666666666,
             "#ed7953"
            ],
            [
             0.7777777777777778,
             "#fb9f3a"
            ],
            [
             0.8888888888888888,
             "#fdca26"
            ],
            [
             1,
             "#f0f921"
            ]
           ]
          },
          "colorway": [
           "#636efa",
           "#EF553B",
           "#00cc96",
           "#ab63fa",
           "#FFA15A",
           "#19d3f3",
           "#FF6692",
           "#B6E880",
           "#FF97FF",
           "#FECB52"
          ],
          "font": {
           "color": "#2a3f5f"
          },
          "geo": {
           "bgcolor": "white",
           "lakecolor": "white",
           "landcolor": "white",
           "showlakes": true,
           "showland": true,
           "subunitcolor": "#C8D4E3"
          },
          "hoverlabel": {
           "align": "left"
          },
          "hovermode": "closest",
          "mapbox": {
           "style": "light"
          },
          "paper_bgcolor": "white",
          "plot_bgcolor": "white",
          "polar": {
           "angularaxis": {
            "gridcolor": "#EBF0F8",
            "linecolor": "#EBF0F8",
            "ticks": ""
           },
           "bgcolor": "white",
           "radialaxis": {
            "gridcolor": "#EBF0F8",
            "linecolor": "#EBF0F8",
            "ticks": ""
           }
          },
          "scene": {
           "xaxis": {
            "backgroundcolor": "white",
            "gridcolor": "#DFE8F3",
            "gridwidth": 2,
            "linecolor": "#EBF0F8",
            "showbackground": true,
            "ticks": "",
            "zerolinecolor": "#EBF0F8"
           },
           "yaxis": {
            "backgroundcolor": "white",
            "gridcolor": "#DFE8F3",
            "gridwidth": 2,
            "linecolor": "#EBF0F8",
            "showbackground": true,
            "ticks": "",
            "zerolinecolor": "#EBF0F8"
           },
           "zaxis": {
            "backgroundcolor": "white",
            "gridcolor": "#DFE8F3",
            "gridwidth": 2,
            "linecolor": "#EBF0F8",
            "showbackground": true,
            "ticks": "",
            "zerolinecolor": "#EBF0F8"
           }
          },
          "shapedefaults": {
           "line": {
            "color": "#2a3f5f"
           }
          },
          "ternary": {
           "aaxis": {
            "gridcolor": "#DFE8F3",
            "linecolor": "#A2B1C6",
            "ticks": ""
           },
           "baxis": {
            "gridcolor": "#DFE8F3",
            "linecolor": "#A2B1C6",
            "ticks": ""
           },
           "bgcolor": "white",
           "caxis": {
            "gridcolor": "#DFE8F3",
            "linecolor": "#A2B1C6",
            "ticks": ""
           }
          },
          "title": {
           "x": 0.05
          },
          "xaxis": {
           "automargin": true,
           "gridcolor": "#EBF0F8",
           "linecolor": "#EBF0F8",
           "ticks": "",
           "title": {
            "standoff": 15
           },
           "zerolinecolor": "#EBF0F8",
           "zerolinewidth": 2
          },
          "yaxis": {
           "automargin": true,
           "gridcolor": "#EBF0F8",
           "linecolor": "#EBF0F8",
           "ticks": "",
           "title": {
            "standoff": 15
           },
           "zerolinecolor": "#EBF0F8",
           "zerolinewidth": 2
          }
         }
        },
        "xaxis": {
         "title": {
          "text": "Time (s)"
         }
        },
        "yaxis": {
         "title": {
          "text": "$\\|u^k - u^*\\|_2 \\ / \\ \\|u^0 - u^*\\|_2$"
         },
         "type": "log"
        }
       }
      },
      "text/html": [
       "<div>                            <div id=\"b8b798c1-af19-400b-8185-6159d0d2c2d9\" class=\"plotly-graph-div\" style=\"height:525px; width:100%;\"></div>            <script type=\"text/javascript\">                require([\"plotly\"], function(Plotly) {                    window.PLOTLYENV=window.PLOTLYENV || {};                                    if (document.getElementById(\"b8b798c1-af19-400b-8185-6159d0d2c2d9\")) {                    Plotly.newPlot(                        \"b8b798c1-af19-400b-8185-6159d0d2c2d9\",                        [{\"line\":{\"color\":\"#636EFA\",\"dash\":\"solid\"},\"marker\":{\"size\":10,\"symbol\":\"circle\"},\"mode\":\"lines+markers\",\"name\":\"PR-pr_shifts\",\"type\":\"scatter\",\"x\":[110.58188962936401,121.20984935760498,132.19085264205933,143.46513867378235,154.79527020454407,166.32257676124573,180.15512704849243,193.9432065486908,207.71113276481628,229.03536438941956,245.59436535835266,256.65081334114075,268.04134011268616,280.6645827293396,294.527713060379,308.3512806892395],\"y\":[1.0,0.9801801669402826,0.9721041781011833,0.9645931651427846,0.9558337922590013,0.9439363633861483,0.9260440647486204,0.8974361490213194,0.8501693786847389,0.7720637993336437,0.6482892293498617,0.47072760542542547,0.2605316393963115,0.08566703977009711,0.009256132765404514,7.088512774863282e-05]},{\"line\":{\"color\":\"#EF553B\",\"dash\":\"dot\"},\"marker\":{\"size\":10,\"symbol\":\"square\"},\"mode\":\"lines+markers\",\"name\":\"PR-w_shifts\",\"type\":\"scatter\",\"x\":[110.58195757865906,133.38460302352905,148.9824824333191,160.1458399295807,171.5192413330078,184.25498151779175,198.1400752067566,211.99324464797974,234.8786063194275,252.01120495796204,263.11337661743164,274.469131231308,287.16259932518005,301.10400581359863,315.12474393844604,338.080561876297],\"y\":[1.0,0.9822827500552278,0.9744235291927745,0.9671298132135484,0.9587786091003331,0.9475318442659921,0.9304498568053938,0.9024683250661582,0.85467876207925,0.7727318275055226,0.6385763039980348,0.4432729858836807,0.21859236798438036,0.053493462685546125,0.0021186294313509917,2.81280232060637e-06]},{\"line\":{\"color\":\"#00CC96\",\"dash\":\"dash\"},\"marker\":{\"size\":10,\"symbol\":\"star\"},\"mode\":\"lines+markers\",\"name\":\"PR-cst\",\"type\":\"scatter\",\"x\":[0.20853853225708008,51.68785500526428,120.28821587562561,169.32296895980835,236.64840006828308,288.6047716140747,354.5635235309601,411.0627245903015,471.4643657207489,537.2849299907684,590.6365444660187],\"y\":[1.0,0.9714774091902948,0.9648249818000361,0.9601142806261315,0.9562004289975085,0.9527240631500895,0.9495257706741179,0.9465211696999366,0.9436602733826626,0.9409109891911729,0.9382514116881083]},{\"line\":{\"color\":\"#AB63FA\",\"dash\":\"longdash\"},\"marker\":{\"size\":10,\"symbol\":\"x\"},\"mode\":\"lines+markers\",\"name\":\"SPR-cst-0.1\",\"type\":\"scatter\",\"x\":[0.20853853225708008,28.181654691696167,67.6235282421112,92.02970218658447,119.90567255020142,159.52264213562012,186.8069212436676,212.58240604400635,245.09942531585693,284.75251722335815,309.0359613895416],\"y\":[1.0,0.9749157143916907,0.9680086528697264,0.9631040285058303,0.9589020905859679,0.9551135755410238,0.9515602900571473,0.9482361158288357,0.9450148470287499,0.9419009542643567,0.938894731942344]},{\"line\":{\"color\":\"#FFA15A\",\"dash\":\"dashdot\"},\"marker\":{\"size\":10,\"symbol\":\"triangle-up\"},\"mode\":\"lines+markers\",\"name\":\"SPR-cst-0.25\",\"type\":\"scatter\",\"x\":[0.20853853225708008,69.35543370246887,116.63649272918701,179.7410020828247,228.9382040500641,291.6474003791809,353.07898473739624,404.9541504383087,474.2291235923767,520.4285016059875,586.8836054801941],\"y\":[1.0,0.9746191282795624,0.9676716198532566,0.9625690306650214,0.9583047983854703,0.9545135647457174,0.9509930901719122,0.9476377873444369,0.9444044166205134,0.9412786766663085,0.9383042225263434]}],                        {\"font\":{\"size\":20},\"legend\":{\"bgcolor\":\"rgba(255,255,255,0.8)\",\"title\":{\"text\":\"Methods\"},\"x\":0.99,\"xanchor\":\"right\",\"y\":0.99,\"yanchor\":\"top\"},\"margin\":{\"b\":20,\"l\":20,\"r\":20,\"t\":20},\"template\":{\"data\":{\"bar\":[{\"error_x\":{\"color\":\"#2a3f5f\"},\"error_y\":{\"color\":\"#2a3f5f\"},\"marker\":{\"line\":{\"color\":\"white\",\"width\":0.5},\"pattern\":{\"fillmode\":\"overlay\",\"size\":10,\"solidity\":0.2}},\"type\":\"bar\"}],\"barpolar\":[{\"marker\":{\"line\":{\"color\":\"white\",\"width\":0.5},\"pattern\":{\"fillmode\":\"overlay\",\"size\":10,\"solidity\":0.2}},\"type\":\"barpolar\"}],\"carpet\":[{\"aaxis\":{\"endlinecolor\":\"#2a3f5f\",\"gridcolor\":\"#C8D4E3\",\"linecolor\":\"#C8D4E3\",\"minorgridcolor\":\"#C8D4E3\",\"startlinecolor\":\"#2a3f5f\"},\"baxis\":{\"endlinecolor\":\"#2a3f5f\",\"gridcolor\":\"#C8D4E3\",\"linecolor\":\"#C8D4E3\",\"minorgridcolor\":\"#C8D4E3\",\"startlinecolor\":\"#2a3f5f\"},\"type\":\"carpet\"}],\"choropleth\":[{\"colorbar\":{\"outlinewidth\":0,\"ticks\":\"\"},\"type\":\"choropleth\"}],\"contour\":[{\"colorbar\":{\"outlinewidth\":0,\"ticks\":\"\"},\"colorscale\":[[0.0,\"#0d0887\"],[0.1111111111111111,\"#46039f\"],[0.2222222222222222,\"#7201a8\"],[0.3333333333333333,\"#9c179e\"],[0.4444444444444444,\"#bd3786\"],[0.5555555555555556,\"#d8576b\"],[0.6666666666666666,\"#ed7953\"],[0.7777777777777778,\"#fb9f3a\"],[0.8888888888888888,\"#fdca26\"],[1.0,\"#f0f921\"]],\"type\":\"contour\"}],\"contourcarpet\":[{\"colorbar\":{\"outlinewidth\":0,\"ticks\":\"\"},\"type\":\"contourcarpet\"}],\"heatmap\":[{\"colorbar\":{\"outlinewidth\":0,\"ticks\":\"\"},\"colorscale\":[[0.0,\"#0d0887\"],[0.1111111111111111,\"#46039f\"],[0.2222222222222222,\"#7201a8\"],[0.3333333333333333,\"#9c179e\"],[0.4444444444444444,\"#bd3786\"],[0.5555555555555556,\"#d8576b\"],[0.6666666666666666,\"#ed7953\"],[0.7777777777777778,\"#fb9f3a\"],[0.8888888888888888,\"#fdca26\"],[1.0,\"#f0f921\"]],\"type\":\"heatmap\"}],\"heatmapgl\":[{\"colorbar\":{\"outlinewidth\":0,\"ticks\":\"\"},\"colorscale\":[[0.0,\"#0d0887\"],[0.1111111111111111,\"#46039f\"],[0.2222222222222222,\"#7201a8\"],[0.3333333333333333,\"#9c179e\"],[0.4444444444444444,\"#bd3786\"],[0.5555555555555556,\"#d8576b\"],[0.6666666666666666,\"#ed7953\"],[0.7777777777777778,\"#fb9f3a\"],[0.8888888888888888,\"#fdca26\"],[1.0,\"#f0f921\"]],\"type\":\"heatmapgl\"}],\"histogram\":[{\"marker\":{\"pattern\":{\"fillmode\":\"overlay\",\"size\":10,\"solidity\":0.2}},\"type\":\"histogram\"}],\"histogram2d\":[{\"colorbar\":{\"outlinewidth\":0,\"ticks\":\"\"},\"colorscale\":[[0.0,\"#0d0887\"],[0.1111111111111111,\"#46039f\"],[0.2222222222222222,\"#7201a8\"],[0.3333333333333333,\"#9c179e\"],[0.4444444444444444,\"#bd3786\"],[0.5555555555555556,\"#d8576b\"],[0.6666666666666666,\"#ed7953\"],[0.7777777777777778,\"#fb9f3a\"],[0.8888888888888888,\"#fdca26\"],[1.0,\"#f0f921\"]],\"type\":\"histogram2d\"}],\"histogram2dcontour\":[{\"colorbar\":{\"outlinewidth\":0,\"ticks\":\"\"},\"colorscale\":[[0.0,\"#0d0887\"],[0.1111111111111111,\"#46039f\"],[0.2222222222222222,\"#7201a8\"],[0.3333333333333333,\"#9c179e\"],[0.4444444444444444,\"#bd3786\"],[0.5555555555555556,\"#d8576b\"],[0.6666666666666666,\"#ed7953\"],[0.7777777777777778,\"#fb9f3a\"],[0.8888888888888888,\"#fdca26\"],[1.0,\"#f0f921\"]],\"type\":\"histogram2dcontour\"}],\"mesh3d\":[{\"colorbar\":{\"outlinewidth\":0,\"ticks\":\"\"},\"type\":\"mesh3d\"}],\"parcoords\":[{\"line\":{\"colorbar\":{\"outlinewidth\":0,\"ticks\":\"\"}},\"type\":\"parcoords\"}],\"pie\":[{\"automargin\":true,\"type\":\"pie\"}],\"scatter\":[{\"marker\":{\"colorbar\":{\"outlinewidth\":0,\"ticks\":\"\"}},\"type\":\"scatter\"}],\"scatter3d\":[{\"line\":{\"colorbar\":{\"outlinewidth\":0,\"ticks\":\"\"}},\"marker\":{\"colorbar\":{\"outlinewidth\":0,\"ticks\":\"\"}},\"type\":\"scatter3d\"}],\"scattercarpet\":[{\"marker\":{\"colorbar\":{\"outlinewidth\":0,\"ticks\":\"\"}},\"type\":\"scattercarpet\"}],\"scattergeo\":[{\"marker\":{\"colorbar\":{\"outlinewidth\":0,\"ticks\":\"\"}},\"type\":\"scattergeo\"}],\"scattergl\":[{\"marker\":{\"colorbar\":{\"outlinewidth\":0,\"ticks\":\"\"}},\"type\":\"scattergl\"}],\"scattermapbox\":[{\"marker\":{\"colorbar\":{\"outlinewidth\":0,\"ticks\":\"\"}},\"type\":\"scattermapbox\"}],\"scatterpolar\":[{\"marker\":{\"colorbar\":{\"outlinewidth\":0,\"ticks\":\"\"}},\"type\":\"scatterpolar\"}],\"scatterpolargl\":[{\"marker\":{\"colorbar\":{\"outlinewidth\":0,\"ticks\":\"\"}},\"type\":\"scatterpolargl\"}],\"scatterternary\":[{\"marker\":{\"colorbar\":{\"outlinewidth\":0,\"ticks\":\"\"}},\"type\":\"scatterternary\"}],\"surface\":[{\"colorbar\":{\"outlinewidth\":0,\"ticks\":\"\"},\"colorscale\":[[0.0,\"#0d0887\"],[0.1111111111111111,\"#46039f\"],[0.2222222222222222,\"#7201a8\"],[0.3333333333333333,\"#9c179e\"],[0.4444444444444444,\"#bd3786\"],[0.5555555555555556,\"#d8576b\"],[0.6666666666666666,\"#ed7953\"],[0.7777777777777778,\"#fb9f3a\"],[0.8888888888888888,\"#fdca26\"],[1.0,\"#f0f921\"]],\"type\":\"surface\"}],\"table\":[{\"cells\":{\"fill\":{\"color\":\"#EBF0F8\"},\"line\":{\"color\":\"white\"}},\"header\":{\"fill\":{\"color\":\"#C8D4E3\"},\"line\":{\"color\":\"white\"}},\"type\":\"table\"}]},\"layout\":{\"annotationdefaults\":{\"arrowcolor\":\"#2a3f5f\",\"arrowhead\":0,\"arrowwidth\":1},\"autotypenumbers\":\"strict\",\"coloraxis\":{\"colorbar\":{\"outlinewidth\":0,\"ticks\":\"\"}},\"colorscale\":{\"diverging\":[[0,\"#8e0152\"],[0.1,\"#c51b7d\"],[0.2,\"#de77ae\"],[0.3,\"#f1b6da\"],[0.4,\"#fde0ef\"],[0.5,\"#f7f7f7\"],[0.6,\"#e6f5d0\"],[0.7,\"#b8e186\"],[0.8,\"#7fbc41\"],[0.9,\"#4d9221\"],[1,\"#276419\"]],\"sequential\":[[0.0,\"#0d0887\"],[0.1111111111111111,\"#46039f\"],[0.2222222222222222,\"#7201a8\"],[0.3333333333333333,\"#9c179e\"],[0.4444444444444444,\"#bd3786\"],[0.5555555555555556,\"#d8576b\"],[0.6666666666666666,\"#ed7953\"],[0.7777777777777778,\"#fb9f3a\"],[0.8888888888888888,\"#fdca26\"],[1.0,\"#f0f921\"]],\"sequentialminus\":[[0.0,\"#0d0887\"],[0.1111111111111111,\"#46039f\"],[0.2222222222222222,\"#7201a8\"],[0.3333333333333333,\"#9c179e\"],[0.4444444444444444,\"#bd3786\"],[0.5555555555555556,\"#d8576b\"],[0.6666666666666666,\"#ed7953\"],[0.7777777777777778,\"#fb9f3a\"],[0.8888888888888888,\"#fdca26\"],[1.0,\"#f0f921\"]]},\"colorway\":[\"#636efa\",\"#EF553B\",\"#00cc96\",\"#ab63fa\",\"#FFA15A\",\"#19d3f3\",\"#FF6692\",\"#B6E880\",\"#FF97FF\",\"#FECB52\"],\"font\":{\"color\":\"#2a3f5f\"},\"geo\":{\"bgcolor\":\"white\",\"lakecolor\":\"white\",\"landcolor\":\"white\",\"showlakes\":true,\"showland\":true,\"subunitcolor\":\"#C8D4E3\"},\"hoverlabel\":{\"align\":\"left\"},\"hovermode\":\"closest\",\"mapbox\":{\"style\":\"light\"},\"paper_bgcolor\":\"white\",\"plot_bgcolor\":\"white\",\"polar\":{\"angularaxis\":{\"gridcolor\":\"#EBF0F8\",\"linecolor\":\"#EBF0F8\",\"ticks\":\"\"},\"bgcolor\":\"white\",\"radialaxis\":{\"gridcolor\":\"#EBF0F8\",\"linecolor\":\"#EBF0F8\",\"ticks\":\"\"}},\"scene\":{\"xaxis\":{\"backgroundcolor\":\"white\",\"gridcolor\":\"#DFE8F3\",\"gridwidth\":2,\"linecolor\":\"#EBF0F8\",\"showbackground\":true,\"ticks\":\"\",\"zerolinecolor\":\"#EBF0F8\"},\"yaxis\":{\"backgroundcolor\":\"white\",\"gridcolor\":\"#DFE8F3\",\"gridwidth\":2,\"linecolor\":\"#EBF0F8\",\"showbackground\":true,\"ticks\":\"\",\"zerolinecolor\":\"#EBF0F8\"},\"zaxis\":{\"backgroundcolor\":\"white\",\"gridcolor\":\"#DFE8F3\",\"gridwidth\":2,\"linecolor\":\"#EBF0F8\",\"showbackground\":true,\"ticks\":\"\",\"zerolinecolor\":\"#EBF0F8\"}},\"shapedefaults\":{\"line\":{\"color\":\"#2a3f5f\"}},\"ternary\":{\"aaxis\":{\"gridcolor\":\"#DFE8F3\",\"linecolor\":\"#A2B1C6\",\"ticks\":\"\"},\"baxis\":{\"gridcolor\":\"#DFE8F3\",\"linecolor\":\"#A2B1C6\",\"ticks\":\"\"},\"bgcolor\":\"white\",\"caxis\":{\"gridcolor\":\"#DFE8F3\",\"linecolor\":\"#A2B1C6\",\"ticks\":\"\"}},\"title\":{\"x\":0.05},\"xaxis\":{\"automargin\":true,\"gridcolor\":\"#EBF0F8\",\"linecolor\":\"#EBF0F8\",\"ticks\":\"\",\"title\":{\"standoff\":15},\"zerolinecolor\":\"#EBF0F8\",\"zerolinewidth\":2},\"yaxis\":{\"automargin\":true,\"gridcolor\":\"#EBF0F8\",\"linecolor\":\"#EBF0F8\",\"ticks\":\"\",\"title\":{\"standoff\":15},\"zerolinecolor\":\"#EBF0F8\",\"zerolinewidth\":2}}},\"xaxis\":{\"title\":{\"text\":\"Time (s)\"}},\"yaxis\":{\"title\":{\"text\":\"$\\\\|u^k - u^*\\\\|_2 \\\\ / \\\\ \\\\|u^0 - u^*\\\\|_2$\"},\"type\":\"log\"}},                        {\"responsive\": true}                    ).then(function(){\n",
       "                            \n",
       "var gd = document.getElementById('b8b798c1-af19-400b-8185-6159d0d2c2d9');\n",
       "var x = new MutationObserver(function (mutations, observer) {{\n",
       "        var display = window.getComputedStyle(gd).display;\n",
       "        if (!display || display === 'none') {{\n",
       "            console.log([gd, 'removed!']);\n",
       "            Plotly.purge(gd);\n",
       "            observer.disconnect();\n",
       "        }}\n",
       "}});\n",
       "\n",
       "// Listen for the removal of the full notebook cells\n",
       "var notebookContainer = gd.closest('#notebook-container');\n",
       "if (notebookContainer) {{\n",
       "    x.observe(notebookContainer, {childList: true});\n",
       "}}\n",
       "\n",
       "// Listen for the clearing of the current output cell\n",
       "var outputEl = gd.closest('.output');\n",
       "if (outputEl) {{\n",
       "    x.observe(outputEl, {childList: true});\n",
       "}}\n",
       "\n",
       "                        })                };                });            </script>        </div>"
      ]
     },
     "metadata": {},
     "output_type": "display_data"
    }
   ],
   "source": [
    "# plot_conv_plotly(results, title, prob=\"pr\", x_axis=\"iter\")\n",
    "plot_conv_plotly(results, title, prob=\"pr\", x_axis=\"epoch\")\n",
    "plot_conv_plotly(results, title, prob=\"pr\", x_axis=\"time\")"
   ]
  },
  {
   "cell_type": "markdown",
   "metadata": {},
   "source": [
    "# 5) Save the results in csv and corresponding plots"
   ]
  },
  {
   "cell_type": "code",
   "execution_count": 114,
   "metadata": {
    "scrolled": true
   },
   "outputs": [
    {
     "name": "stdout",
     "output_type": "stream",
     "text": [
      "Full path: /home/claire/nidham/thomas_jefferson_fund/sketch_proj_ADI/code/sketched_adi/outputs/pr/artificial_N_8000_spectra_close_a_tilde_1.00e-04_b_tilde_1.00e+00\n",
      "Save results in csv\n",
      "Save plots\n"
     ]
    }
   ],
   "source": [
    "# to run twice to avoid MathJax message on the plot\n",
    "exp_name = f\"artificial_N_{N}_spectra_{spectra}_a_tilde_{alpha:.2e}_b_tilde_{beta:.2e}\"\n",
    "save(results, title, \"pr\", exp_name)"
   ]
  }
 ],
 "metadata": {
  "kernelspec": {
   "display_name": "Python 3 (ipykernel)",
   "language": "python",
   "name": "python3"
  },
  "language_info": {
   "codemirror_mode": {
    "name": "ipython",
    "version": 3
   },
   "file_extension": ".py",
   "mimetype": "text/x-python",
   "name": "python",
   "nbconvert_exporter": "python",
   "pygments_lexer": "ipython3",
   "version": "3.7.11"
  }
 },
 "nbformat": 4,
 "nbformat_minor": 4
}
