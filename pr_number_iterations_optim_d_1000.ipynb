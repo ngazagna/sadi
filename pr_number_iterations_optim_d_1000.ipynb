{
 "cells": [
  {
   "cell_type": "markdown",
   "metadata": {},
   "source": [
    "# 0) Imports"
   ]
  },
  {
   "cell_type": "code",
   "execution_count": 1,
   "metadata": {},
   "outputs": [],
   "source": [
    "%load_ext autoreload\n",
    "%autoreload 2"
   ]
  },
  {
   "cell_type": "code",
   "execution_count": 2,
   "metadata": {},
   "outputs": [],
   "source": [
    "# %matplotlib inline"
   ]
  },
  {
   "cell_type": "code",
   "execution_count": 3,
   "metadata": {},
   "outputs": [],
   "source": [
    "import os\n",
    "import numpy as np\n",
    "import pandas as pd\n",
    "from time import time\n",
    "\n",
    "import matplotlib.pyplot as plt"
   ]
  },
  {
   "cell_type": "code",
   "execution_count": 4,
   "metadata": {},
   "outputs": [],
   "source": [
    "from itertools import cycle\n",
    "from random import shuffle\n",
    "from plotly import graph_objects as go\n",
    "import plotly.express as px\n",
    "from plotly.validators.scatter.marker import SymbolValidator\n",
    "from PIL import ImageColor\n",
    "import functools\n",
    "\n",
    "COLORS = px.colors.qualitative.Plotly\n",
    "\n",
    "LINE_STYLES = [\"solid\", \"dot\", \"dash\", \"longdash\", \"dashdot\", \"longdashdot\"]\n",
    "\n",
    "SYMBOLS = [\n",
    "    \"circle\",\n",
    "    \"square\",\n",
    "    \"star\",\n",
    "    \"x\",\n",
    "    \"triangle-up\",\n",
    "    \"pentagon\",\n",
    "    \"cross\",\n",
    "]"
   ]
  },
  {
   "cell_type": "markdown",
   "metadata": {},
   "source": [
    "# 1) Personal tools and solvers"
   ]
  },
  {
   "cell_type": "code",
   "execution_count": 5,
   "metadata": {},
   "outputs": [],
   "source": [
    "from utils import is_symmetric, is_pos_def, is_commutative, res_norm_pr, rel_err_pr\n",
    "from plots import plot_conv, plot_eigenvals\n",
    "from results import ResultPR\n",
    "\n",
    "from gen_data import gen_artifical_pr\n",
    "from adi_peaceman_rachford import adi_pr, sap_adi_pr\n",
    "from shift_parameters import shifts_pr, shifts_w\n",
    "\n",
    "from save_load import save, save_artificial_pr, load_artificial_pr"
   ]
  },
  {
   "cell_type": "markdown",
   "metadata": {},
   "source": [
    "### Parameters to select"
   ]
  },
  {
   "cell_type": "code",
   "execution_count": 6,
   "metadata": {},
   "outputs": [],
   "source": [
    "N = 1000 # dimension\n",
    "overwrite = True # overwrite matrices\n",
    "n_iter_moving_shifts = 10 # number iterations PR and W shifts\n",
    "n_iter_cst_shifts = 25 # number iterations cst shifts\n",
    "n_iter = 50 # number iterations SPR\n",
    "\n",
    "is_plot_spectrum = False # plot spectrum of matrices A and B\n",
    "\n",
    "\n",
    "# Plots title\n",
    "title = f\"Peaceman-Rachford problem N={N}\""
   ]
  },
  {
   "cell_type": "markdown",
   "metadata": {},
   "source": [
    "# 2) Generate input matrices and vector"
   ]
  },
  {
   "cell_type": "markdown",
   "metadata": {},
   "source": [
    "## Load or generate data"
   ]
  },
  {
   "cell_type": "code",
   "execution_count": 7,
   "metadata": {},
   "outputs": [
    {
     "name": "stdout",
     "output_type": "stream",
     "text": [
      "Matrices saved in\n",
      " /home/claire/nidham/thomas_jefferson_fund/sketch_proj_ADI/code/sketched_adi/datasets/pr/artificial_pr_1000.npz\n",
      "Shape of H : 1000\n"
     ]
    }
   ],
   "source": [
    "filename = \"artificial_pr_\" + str(N) + \".npz\"\n",
    "folder = os.path.join(os.getcwd(), \"datasets/pr/\")\n",
    "path = os.path.join(folder, filename)\n",
    "\n",
    "if os.path.exists(path) and not overwrite:\n",
    "    H, V, b, u_true = load_artificial_pr(N)\n",
    "    print(\"Matrices loaded from\\n\", path)\n",
    "else:\n",
    "    np.random.seed(0)\n",
    "    H, V, b, u_true = gen_artifical_pr(N)\n",
    "    save_artificial_pr(H, V, b, u_true)\n",
    "    print(\"Matrices saved in\\n\", path)\n",
    "    \n",
    "m = H.shape[0]\n",
    "print(\"Shape of H :\", m)"
   ]
  },
  {
   "cell_type": "code",
   "execution_count": 8,
   "metadata": {},
   "outputs": [
    {
     "name": "stdout",
     "output_type": "stream",
     "text": [
      "The problem is well posed\n"
     ]
    }
   ],
   "source": [
    "# Check that u_true is a solution\n",
    "if u_true.size == 0:\n",
    "    print(\"Solution not provided\")\n",
    "else:\n",
    "    if res_norm_pr(u_true, H, V, b) < 1e-3:\n",
    "        print(\"The problem is well posed\")\n",
    "#         u_direct = np.linalg.solve(H + V, b) # computed solution\n",
    "#         print(res_norm_pr(u_direct, H, V, b))\n",
    "#         print(np.linalg.norm(u_direct - u_true)) # u_true: ground truth solution\n",
    "    else:\n",
    "        print(\"The problem does not have a solution\")\n",
    "        u_true = np.array([])"
   ]
  },
  {
   "cell_type": "code",
   "execution_count": 9,
   "metadata": {
    "scrolled": false
   },
   "outputs": [
    {
     "name": "stdout",
     "output_type": "stream",
     "text": [
      "Spectrum of H: [0.00777, 1.00100] => condition number (H) = 129\n",
      "Spectrum of V: [0.00155, 1.00150] => condition number (V) = 648\n",
      "Eigenvalue interval [alpha, beta] = [0.0015458562066422107, 1.0014999999999947]\n",
      "\n",
      "Time numpy eigvalsh: 0.12 s\n",
      "\n",
      "Condition number (H + V) = 215\n"
     ]
    }
   ],
   "source": [
    "# Estimate eigenvalue interval\n",
    "t0 = time()\n",
    "eig_val_H = np.linalg.eigvalsh(H)\n",
    "eig_val_V = np.linalg.eigvalsh(V)\n",
    "\n",
    "all_eig_val = np.concatenate((eig_val_H, eig_val_V))\n",
    "alpha = np.min(all_eig_val)\n",
    "beta = np.max(all_eig_val)\n",
    "t_eigvalsh = time() - t0\n",
    "\n",
    "print(\n",
    "    f\"Spectrum of H: [{np.min(eig_val_H):.5f}, {np.max(eig_val_H):.5f}]\"\n",
    "    f\" => condition number (H) = {np.linalg.cond(H):.0f}\"\n",
    ")\n",
    "print(\n",
    "    f\"Spectrum of V: [{np.min(eig_val_V):.5f}, {np.max(eig_val_V):.5f}]\"\n",
    "    f\" => condition number (V) = {np.linalg.cond(V):.0f}\"\n",
    ")\n",
    "\n",
    "print(f\"Eigenvalue interval [alpha, beta] = [{alpha}, {beta}]\\n\")\n",
    "print(f\"Time numpy eigvalsh: {t_eigvalsh:.2} s\\n\")\n",
    "\n",
    "print(f\"Condition number (H + V) = {np.linalg.cond(H + V):.0f}\")"
   ]
  },
  {
   "cell_type": "markdown",
   "metadata": {},
   "source": [
    "## Remark\n",
    "H + V = H - (- V), sp(H) and sp(-V) must be separated enough\n",
    "a = min eig (H), b = max eig (H)\n",
    "c = min eig (-V), d = max eig (-V)\n",
    "\n",
    "gam = (c - a )*( d - b )/( c - b )/( d - a ); % Cross - ratio of a ,b ,c , d\n",
    "=> Measures the \"difficulty\" of the problem \n",
    "\n",
    "AX - XB = F when the eigenvalues of A ( B ) are in [a , b ] and\n",
    "% the eigenvalues of B ( A ) are in [c , d ]"
   ]
  },
  {
   "cell_type": "code",
   "execution_count": 10,
   "metadata": {
    "scrolled": true
   },
   "outputs": [],
   "source": [
    "if is_plot_spectrum:\n",
    "    # Plot eigenvalues decrease\n",
    "    plot_eigenvals(eig_val_H, eig_val_V, \"pr\")"
   ]
  },
  {
   "cell_type": "markdown",
   "metadata": {},
   "source": [
    "# 3) Finding the correct number of iterations on ADI with Peaceman-Rachford shifts"
   ]
  },
  {
   "cell_type": "code",
   "execution_count": 11,
   "metadata": {},
   "outputs": [],
   "source": [
    "results_iter_exp = []"
   ]
  },
  {
   "cell_type": "code",
   "execution_count": 12,
   "metadata": {},
   "outputs": [],
   "source": [
    "for n_iter_tmp in [5, 10, 15, 20]:\n",
    "#     print(f\"Problem of size: {N} | number of iterations: {n_iter_tmp}\\n\")\n",
    "    \n",
    "    # Compute PR shifts\n",
    "    t0 = time()\n",
    "    p_pr, q_pr = shifts_pr(alpha, beta, n_iter_tmp)\n",
    "    t_init = time() - t0\n",
    "    \n",
    "    u_adi_pr, t_adi_pr, iter_adi_pr, epoch_adi_pr = adi_pr(\n",
    "        H, V, b, \n",
    "        n_iter=n_iter_tmp, \n",
    "        p=p_pr, q=q_pr,\n",
    "        store_every=1,\n",
    "        verbose=False,\n",
    "    )\n",
    "\n",
    "    # Taking initialization into account\n",
    "    # t_eigvalsh : time to compute spectrum bounds\n",
    "    t_adi_pr += t_eigvalsh + t_init\n",
    "\n",
    "    result_adi_pr = ResultPR(\n",
    "        str(n_iter_tmp),\n",
    "        u_adi_pr, t_adi_pr, iter_adi_pr, epoch_adi_pr,\n",
    "        u_true,\n",
    "    )\n",
    "    result_adi_pr.compute_errors(H, V, b)\n",
    "\n",
    "    results_iter_exp.append(result_adi_pr)\n",
    "\n",
    "#     print(f\"\\nRelative residual of last iterate: {result_adi_pr.rel_res[-1]:.2e}\")\n",
    "#     if not result_adi_pr.rel_err.size == 0:\n",
    "#         print(f\"Relative error of last iterate: {result_adi_pr.rel_err[-1]:.2e}\")\n",
    "#     print(\"\\n\")"
   ]
  },
  {
   "cell_type": "markdown",
   "metadata": {},
   "source": [
    "## Relative distance to optimum plot "
   ]
  },
  {
   "cell_type": "code",
   "execution_count": 15,
   "metadata": {},
   "outputs": [],
   "source": [
    "fig_number_iter_rel_err = go.Figure()\n",
    "\n",
    "fig_number_iter_rel_err.update_layout(\n",
    "    template=\"plotly_white\", \n",
    "    font=dict(size=20,),\n",
    ")\n",
    "\n",
    "for result in results_iter_exp:\n",
    "    x_array = result.iterations\n",
    "\n",
    "    fig_number_iter_rel_err.add_trace(\n",
    "        go.Scatter(\n",
    "        x=x_array,\n",
    "        y=result.rel_err,\n",
    "        name=result.algo_name,\n",
    "        mode=\"lines+markers\",\n",
    "#         line=dict(color=COLORS[0], dash=LINE_STYLES[0]),\n",
    "        marker=dict(symbol=SYMBOLS[0], size=10),\n",
    "    )\n",
    ")\n",
    "\n",
    "y_dist = \"$\\|u^k - u^*\\|_2 \\ / \\ \\|u^0 - u^*\\|_2$\"\n",
    "\n",
    "fig_number_iter_rel_err.update_layout(\n",
    "    margin={\"l\": 20, \"r\": 20, \"t\": 20, \"b\": 20},\n",
    "    xaxis_title=\"iteration\",\n",
    "#     yaxis_title=\"relative residual norm\",\n",
    "    yaxis_title=y_dist,\n",
    "    yaxis_type=\"log\",\n",
    "    showlegend=False,\n",
    "#     legend=dict(yanchor=\"top\", y=0.99, xanchor=\"right\", x=0.99),\n",
    ")\n",
    "\n",
    "save_path = os.path.join(os.getcwd(), \"thesis_plots\")\n",
    "full_path = os.path.join(save_path, f\"finding_number_iterations_moving_shifts_pr_rel_err_1000.pdf\")\n",
    "fig_number_iter_rel_err.write_image(full_path)"
   ]
  },
  {
   "cell_type": "markdown",
   "metadata": {},
   "source": [
    "## Relative residual plot "
   ]
  },
  {
   "cell_type": "code",
   "execution_count": 16,
   "metadata": {},
   "outputs": [],
   "source": [
    "fig_number_iter_rel_res = go.Figure()\n",
    "\n",
    "fig_number_iter_rel_res.update_layout(\n",
    "    template=\"plotly_white\", \n",
    "    font=dict(size=20,),\n",
    ")\n",
    "\n",
    "for result in results_iter_exp:\n",
    "    x_array = result.iterations\n",
    "\n",
    "    fig_number_iter_rel_res.add_trace(\n",
    "        go.Scatter(\n",
    "        x=x_array,\n",
    "        y=result.rel_res,\n",
    "        name=result.algo_name,\n",
    "        mode=\"lines+markers\",\n",
    "#         line=dict(color=COLORS[0], dash=LINE_STYLES[0]),\n",
    "        marker=dict(symbol=SYMBOLS[0], size=10),\n",
    "    )\n",
    ")\n",
    "\n",
    "y_res = \"$\\|(H+V)u^k - b \\|_2 \\ / \\ \\|(H+V)u^0 - b \\|_2$\"\n",
    "\n",
    "fig_number_iter_rel_res.update_layout(\n",
    "    margin={\"l\": 20, \"r\": 20, \"t\": 20, \"b\": 20},\n",
    "    xaxis_title=\"iteration\",\n",
    "#     yaxis_title=\"relative residual norm\",\n",
    "    yaxis_title=y_res,\n",
    "    yaxis_type=\"log\",\n",
    "    showlegend=False,\n",
    "#     legend=dict(yanchor=\"top\", y=0.99, xanchor=\"right\", x=0.99),\n",
    ")\n",
    "\n",
    "save_path = os.path.join(os.getcwd(), \"thesis_plots\")\n",
    "full_path = os.path.join(save_path, f\"finding_number_iterations_moving_shifts_pr_rel_res_1000.pdf\")\n",
    "fig_number_iter_rel_res.write_image(full_path)"
   ]
  }
 ],
 "metadata": {
  "kernelspec": {
   "display_name": "Python 3",
   "language": "python",
   "name": "python3"
  },
  "language_info": {
   "codemirror_mode": {
    "name": "ipython",
    "version": 3
   },
   "file_extension": ".py",
   "mimetype": "text/x-python",
   "name": "python",
   "nbconvert_exporter": "python",
   "pygments_lexer": "ipython3",
   "version": "3.6.13"
  }
 },
 "nbformat": 4,
 "nbformat_minor": 4
}
